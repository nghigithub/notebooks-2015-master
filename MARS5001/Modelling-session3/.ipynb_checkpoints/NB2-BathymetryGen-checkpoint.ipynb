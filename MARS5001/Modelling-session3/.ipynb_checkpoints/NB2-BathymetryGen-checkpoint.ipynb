{
 "cells": [
  {
   "cell_type": "markdown",
   "metadata": {
    "collapsed": true,
    "slideshow": {
     "slide_type": "slide"
    }
   },
   "source": [
    "# MARS5001 Coastal Processes and Systems\n",
    "\n",
    "\n",
    "# NB2 - Generation of Bathymetry Grid"
   ]
  },
  {
   "cell_type": "markdown",
   "metadata": {
    "slideshow": {
     "slide_type": "slide"
    }
   },
   "source": [
    "<p>The objective of this notebook is to upload and transform a XYZ ASCII topographic/bathymetric data that will later be use to set a model grid for our next simulation. </p>\n",
    "\n",
    "<p>The data manipulation preserves the georeferencing information of the DEM, allowing later projection of the model in a GIS client (or Google Earth).</p>\n",
    "\n",
    "<p>First we upload the libraries that we will use...</p>"
   ]
  },
  {
   "cell_type": "code",
   "execution_count": 1,
   "metadata": {
    "collapsed": false
   },
   "outputs": [
    {
     "name": "stdout",
     "output_type": "stream",
     "text": [
      "Populating the interactive namespace from numpy and matplotlib\n"
     ]
    }
   ],
   "source": [
    "%pylab inline\n",
    "%matplotlib inline\n",
    "import os\n",
    "import csv\n",
    "import glob\n",
    "import netCDF4\n",
    "import matplotlib\n",
    "import subprocess\n",
    "import pandas as pd\n",
    "import numpy as np\n",
    "import scipy.io as spio\n",
    "import matplotlib.tri as Tri\n",
    "import myOSshell as myos\n",
    "import matplotlib.pyplot as plt\n",
    "from matplotlib import animation\n",
    "from distutils.dir_util import mkpath\n",
    "from matplotlib.colors import BoundaryNorm"
   ]
  },
  {
   "cell_type": "markdown",
   "metadata": {
    "slideshow": {
     "slide_type": "slide"
    }
   },
   "source": [
    "# XYZ dataset\n",
    "\n",
    "In 2005 Geoscience Australia and the National Oceans Office undertook a joint project to produce a consistent, high-quality 9 arc second (**0.0025°** or **~250m** at the equator) bathymetric grid for Australian waters. \n",
    "\n",
    "In 2009 a number of new datasets were included in an updated version of the grid. \n",
    "\n",
    "<small>*Reference: Whiteway, T., 2009. Australian Bathymetry and Topography Grid, June 2009. Scale 1:5000000. Geoscience Australia, Canberra. http://dx.doi.org/10.4225/25/53D99B6581B9A*\n",
    "</small>"
   ]
  },
  {
   "cell_type": "code",
   "execution_count": 1,
   "metadata": {
    "collapsed": false
   },
   "outputs": [
    {
     "data": {
      "text/html": [
       "<iframe src=http://www.ga.gov.au/metadata-gateway/metadata/record/gcat_67703 width=600 height=500></iframe>"
      ],
      "text/plain": [
       "<IPython.core.display.HTML object>"
      ]
     },
     "execution_count": 1,
     "metadata": {},
     "output_type": "execute_result"
    }
   ],
   "source": [
    "from IPython.core.display import HTML\n",
    "HTML('<iframe src=http://www.ga.gov.au/metadata-gateway/metadata/record/gcat_67703 width=600 height=500></iframe>')"
   ]
  },
  {
   "cell_type": "markdown",
   "metadata": {
    "collapsed": true,
    "slideshow": {
     "slide_type": "subslide"
    }
   },
   "source": [
    "# Cliping the Dataset\n",
    "\n",
    "The total size of the ASCII files for all Australia is about 2.5 Gb and is organized as follow:\n",
    "\n",
    "<img src='./XYZ_Index.jpg' width=400>\n",
    "\n",
    "So the XYZ ASCII files consist in a series of tiles. For offshore Sydney area, I've picked the following tiles:\n",
    "\n",
    "+ Tile 7d\n",
    "+ Tile 8c\n",
    "+ Tile 11b\n",
    "+ Tile 12a\n",
    "\n",
    "And I did a bit of processing on my laptop before uploading the XYZ file on the Amazon server (mainly due to space issue). Basically I have cropped the initial series of 4 tiles between:\n",
    "\n",
    "+ 151.149,153.336\n",
    "+ -35.2013,-32.1437\n",
    "\n",
    "The obtained cropped file called **bath.csv** is around 32 Mb.\n",
    "\n",
    "To upload the file to the server I've first set up a Dropbox account:\n",
    "\n",
    "+ name mars5001\n",
    "+ surname usyd\n",
    "+ mail tristan.salles@sydney.edu.au\n",
    "+ password mars5001\n",
    "\n",
    "then uploaded the file to the Dropbox account and finally used the following script to upload it from the Dropbox account to the Amazon server: "
   ]
  },
  {
   "cell_type": "code",
   "execution_count": 2,
   "metadata": {
    "collapsed": true
   },
   "outputs": [],
   "source": [
    "def dropbox_download(REMOTE,OUTDIR):\n",
    "    # Get the current working directory\n",
    "    working_path=os.getcwd()\n",
    "    # Prepare the shell command\n",
    "    dropbox_download='(~/Dropbox-Uploader/dropbox_uploader.sh download '+REMOTE+' '+working_path+'/'+OUTDIR+')'\n",
    "    # download file from dropbox\n",
    "    os.system(dropbox_download)"
   ]
  },
  {
   "cell_type": "code",
   "execution_count": 3,
   "metadata": {
    "collapsed": false
   },
   "outputs": [],
   "source": [
    "#dropbox_download('bath.csv','.')"
   ]
  },
  {
   "cell_type": "code",
   "execution_count": 4,
   "metadata": {
    "collapsed": false
   },
   "outputs": [
    {
     "name": "stdout",
     "output_type": "stream",
     "text": [
      "bath.csv  grid.csv  Lecture-overview.ipynb  myOSshell.py  myOSshell.pyc  NB1-SWE2D.ipynb  NB2-BathymetryGen.ipynb  pyclaw.log  \u001b[0m\u001b[01;34mSydCoast\u001b[0m/\r\n"
     ]
    }
   ],
   "source": [
    "%ls"
   ]
  },
  {
   "cell_type": "markdown",
   "metadata": {
    "slideshow": {
     "slide_type": "slide"
    }
   },
   "source": [
    "# UTM projected map\n",
    "\n",
    "First we need to read the ASCII file. To do so we use **Pandas** library..,"
   ]
  },
  {
   "cell_type": "code",
   "execution_count": 2,
   "metadata": {
    "collapsed": false
   },
   "outputs": [
    {
     "name": "stdout",
     "output_type": "stream",
     "text": [
      "151.15125 -32.14375 535\n"
     ]
    }
   ],
   "source": [
    "import pandas as pd\n",
    "d = pd.read_csv('bath.csv')\n",
    "X=d['Points:0']\n",
    "Y=d['Points:1']\n",
    "Z=d['Points:2']\n",
    "print X[1],Y[1],Z[1]\n",
    "\n",
    "geoX = []\n",
    "geoY = []\n",
    "geoZ = []\n",
    "\n",
    "for i in range(X.shape[0]):\n",
    "    geoX.append(X[i])\n",
    "    geoY.append(Y[i])\n",
    "    geoZ.append(Z[i])"
   ]
  },
  {
   "cell_type": "markdown",
   "metadata": {
    "slideshow": {
     "slide_type": "subslide"
    }
   },
   "source": [
    "To convert from long/lat to UTM coordinates we use **Proj4** library...\n",
    "\n",
    "We first set the projection referential:"
   ]
  },
  {
   "cell_type": "code",
   "execution_count": 3,
   "metadata": {
    "collapsed": false
   },
   "outputs": [
    {
     "data": {
      "text/plain": [
       "'+units=m +ellps=WGS84 +proj=utm +zone=56S '"
      ]
     },
     "execution_count": 3,
     "metadata": {},
     "output_type": "execute_result"
    }
   ],
   "source": [
    "from pyproj import Proj\n",
    "projection = Proj(proj='utm',zone='56S',ellps='WGS84')\n",
    "projection.srs"
   ]
  },
  {
   "cell_type": "markdown",
   "metadata": {},
   "source": [
    "Then we perform this projection to the long/lat coordinates:"
   ]
  },
  {
   "cell_type": "code",
   "execution_count": 4,
   "metadata": {
    "collapsed": false
   },
   "outputs": [],
   "source": [
    "uX = []\n",
    "uY = []\n",
    "uZ = []\n",
    "\n",
    "for i in range(X.shape[0]):\n",
    "    ox,oy = projection(geoX[i],geoY[i])\n",
    "    uX.append(ox)\n",
    "    uY.append(oy)\n",
    "    uZ.append(geoZ[i]-1.)"
   ]
  },
  {
   "cell_type": "markdown",
   "metadata": {
    "slideshow": {
     "slide_type": "subslide"
    }
   },
   "source": [
    "We then create a regular grid at 250 m resolution which takes the coast between Botany Bay and Manly:"
   ]
  },
  {
   "cell_type": "code",
   "execution_count": 5,
   "metadata": {
    "collapsed": false
   },
   "outputs": [
    {
     "name": "stdout",
     "output_type": "stream",
     "text": [
      "-154.164230428 187.523950101 (155, 117)\n"
     ]
    }
   ],
   "source": [
    "step=250\n",
    "isx= int( (359000-330000) / step )+1\n",
    "isy = int( (-3730500+3769000) / step )+1\n",
    "xi = np.linspace(330000, 359000,isx)\n",
    "yi = np.linspace(-3769000, -3730500,isy)\n",
    "nX,nY = np.meshgrid(xi, yi)\n",
    "nZ = griddata(uX, uY, uZ, xi, yi)\n",
    "print nZ.min(),nZ.max(),nZ.shape"
   ]
  },
  {
   "cell_type": "markdown",
   "metadata": {
    "slideshow": {
     "slide_type": "slide"
    }
   },
   "source": [
    "# Plot the projected map"
   ]
  },
  {
   "cell_type": "code",
   "execution_count": 6,
   "metadata": {
    "collapsed": true
   },
   "outputs": [],
   "source": [
    "# Use custom colormap function from Earle\n",
    "def custom_div_cmap(numcolors=11, name='custom_div_cmap',\n",
    "                    mincol='blue', midcol='white', maxcol='red'):\n",
    "    \"\"\" Create a custom diverging colormap with three colors\n",
    "    \n",
    "    Default is blue to white to red with 11 colors.  Colors can be specified\n",
    "    in any way understandable by matplotlib.colors.ColorConverter.to_rgb()\n",
    "    \"\"\"\n",
    "\n",
    "    from matplotlib.colors import LinearSegmentedColormap \n",
    "    \n",
    "    cmap = LinearSegmentedColormap.from_list(name=name, \n",
    "                                             colors =[mincol, midcol, maxcol],\n",
    "                                             N=numcolors)\n",
    "    return cmap"
   ]
  },
  {
   "cell_type": "code",
   "execution_count": 8,
   "metadata": {
    "collapsed": false
   },
   "outputs": [
    {
     "data": {
      "image/png": "[encoded data removed]",
      "text/plain": [
       "<matplotlib.figure.Figure at 0x7fda8cfa5b10>"
      ]
     },
     "metadata": {},
     "output_type": "display_data"
    }
   ],
   "source": [
    "blevels = [-150, -140, -130, -120, -110, -100, -90, -80, -70, -60, -50, -40, -30, -20, -10,  -7.5, -5, -2.5,-1,-0.5,0]\n",
    "Nb = len(blevels)-1\n",
    "\n",
    "cmap = custom_div_cmap(Nb, mincol='DarkBlue', midcol='CornflowerBlue' ,maxcol='w')\n",
    "cmap.set_over('0.7') # light gray\n",
    "\n",
    "bnorm = BoundaryNorm(blevels, ncolors=Nb, clip=False)\n",
    "\n",
    "fig, ax = plt.subplots(1,1, figsize=(3.9,5.16))\n",
    "pc = plt.contourf(nX,nY,nZ,  vmin=-150, vmax=0, levels=blevels, norm=bnorm, cmap=cmap, extend='both')\n",
    "#plt.colorbar(pc, ticks=blevels, spacing='uniform')\n",
    "\n",
    "pc = plt.contour(nX,nY,nZ, levels=[0], colors='k')"
   ]
  },
  {
   "cell_type": "markdown",
   "metadata": {
    "collapsed": false,
    "slideshow": {
     "slide_type": "slide"
    }
   },
   "source": [
    "# Coupled ocean/wave bathymetric input file \n",
    "\n",
    "You will create your own directory that you will use to run your own ocean/wave model of Offshore Sydney.\n",
    "<br/>\n",
    "The directory will contain a folder called **data** in which you will store the Sydney DEM that we've just produced. \n",
    "<br/>\n",
    "First we create the 2 directories:"
   ]
  },
  {
   "cell_type": "code",
   "execution_count": 11,
   "metadata": {
    "collapsed": false
   },
   "outputs": [
    {
     "name": "stdout",
     "output_type": "stream",
     "text": [
      "bath.csv  \u001b[0m\u001b[01;34mgab\u001b[0m/  Lecture-overview.ipynb  myOSshell.py  myOSshell.pyc  NB1-SWE2D.ipynb  NB2-BathymetryGen.ipynb  \u001b[01;34mSydOceanT\u001b[0m/  \u001b[01;35mXYZ_Index.jpg\u001b[0m\n",
      "['./SydOceanT/data']\n"
     ]
    }
   ],
   "source": [
    "%ls\n",
    "#myos.mkdir('./SydOceanT')\n",
    "#myos.mkdir('./SydOceanT/data')\n",
    "myos.list_dir('./SydOceanT')"
   ]
  },
  {
   "cell_type": "markdown",
   "metadata": {
    "slideshow": {
     "slide_type": "subslide"
    }
   },
   "source": [
    "The format of the input grid for our coupled ocean/wave model is an ASCII file containing on each line the following variables:\n",
    "<br/>\n",
    "** NID  Xvalue Yvalue Zvalue**\n",
    "<br/>\n",
    "The (X,Y) values should be ordered starting from the SW corner up to the NE ones going first along the X-axis. To create this grid we do:"
   ]
  },
  {
   "cell_type": "code",
   "execution_count": 15,
   "metadata": {
    "collapsed": false,
    "slideshow": {
     "slide_type": "-"
    }
   },
   "outputs": [],
   "source": [
    "file = 'sydney.nodes'\n",
    "ofile  = open(file, \"wb\")\n",
    "writer = csv.writer(ofile, delimiter=' ')\n",
    "\n",
    "# There are no header on this file\n",
    "#d = []\n",
    "#d.append('x')\n",
    "#d.append('y')\n",
    "#d.append('z')\n",
    "#writer.writerow(d)\n",
    "\n",
    "nid = 0\n",
    "for i in range(nZ.shape[0]):\n",
    "    for j in range(nZ.shape[1]):\n",
    "        nid = nid + 1\n",
    "        d = []\n",
    "        d.append(nid)\n",
    "        d.append(nX[i,j])\n",
    "        d.append(nY[i,j])\n",
    "        d.append(nZ[i,j])\n",
    "        writer.writerow(d)\n",
    "\n",
    "ofile.close()"
   ]
  },
  {
   "cell_type": "markdown",
   "metadata": {},
   "source": [
    "We then move the file *sydney.nodes* to the simulation folder in my case: *./SydOceanT/data*"
   ]
  },
  {
   "cell_type": "code",
   "execution_count": 19,
   "metadata": {
    "collapsed": false,
    "slideshow": {
     "slide_type": "-"
    }
   },
   "outputs": [
    {
     "name": "stdout",
     "output_type": "stream",
     "text": [
      "bath.csv  \u001b[0m\u001b[01;34mgab\u001b[0m/  Lecture-overview.ipynb  myOSshell.py  myOSshell.pyc  NB1-SWE2D.ipynb  NB2-BathymetryGen.ipynb  \u001b[01;34mSydOceanT\u001b[0m/  \u001b[01;35mXYZ_Index.jpg\u001b[0m\r\n"
     ]
    }
   ],
   "source": [
    "%ls\n",
    "# Copy file\n",
    "#myos.copy('sydney.nodes','./SydOceanT/data')\n",
    "# List data directory\n",
    "#myos.list_dir('./SydOceanT/data')\n",
    "# Delete copied file from root\n",
    "#myos.delete('sydney.nodes')"
   ]
  }
 ],
 "metadata": {
  "kernelspec": {
   "display_name": "Python 2",
   "language": "python",
   "name": "python2"
  },
  "language_info": {
   "codemirror_mode": {
    "name": "ipython",
    "version": 2
   },
   "file_extension": ".py",
   "mimetype": "text/x-python",
   "name": "python",
   "nbconvert_exporter": "python",
   "pygments_lexer": "ipython2",
   "version": "2.7.6"
  }
 },
 "nbformat": 4,
 "nbformat_minor": 0
}
