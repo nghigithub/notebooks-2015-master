{
 "cells": [
  {
   "cell_type": "markdown",
   "metadata": {
    "slideshow": {
     "slide_type": "slide"
    }
   },
   "source": [
    "# Notebook 3: NB3-OceanSim\n",
    "\n",
    "# Coupled ocean circulation wave model on real topography\n"
   ]
  },
  {
   "cell_type": "markdown",
   "metadata": {
    "slideshow": {
     "slide_type": "slide"
    }
   },
   "source": [
    "The objective of this notebook is to use a coupled ocean/wave circulation model to investigate impact of wind direction and speed on ocean current at regional scale.\n",
    "\n",
    "The  model, we will be using, is a modified version of <a href='http://swanmodel.sourceforge.net'>SWAN</a> which has been softly coupled to a modified version of tawic (from <a href='http://www.sciencedirect.com/science/article/pii/S0098300496000477'>F. J. Caviglia & W. C. Dragani, 1996</a>). The model runs in **stationary** mode which means that it outputs condition of ocean currents and waves for a given wind field after convergence of the numerical solution. This kind of model is usefull when looking at long-term trends in ocean evolution over regional scale (such as climate change science or surface process modelling at geological scale). "
   ]
  },
  {
   "cell_type": "markdown",
   "metadata": {
    "slideshow": {
     "slide_type": "slide"
    }
   },
   "source": [
    "# Swan wave model\n",
    "\n",
    "SWAN is a third-generation wave model, developed at Delft University of Technology, that computes random, short-crested wind-generated waves in coastal regions and inland waters. For more information about SWAN, see a short overview of <a href='http://swanmodel.sourceforge.net/features/features.htm'>model features</a>. \n",
    "\n",
    "### SWAN Hindcast tidal inlet Eastern Scheldt, the Netherlands\n",
    "<img src='http://www.svasek.com/img/sv1461-easternscheldt.gif' width=500>"
   ]
  },
  {
   "cell_type": "markdown",
   "metadata": {
    "slideshow": {
     "slide_type": "subslide"
    }
   },
   "source": [
    "\n",
    "\n",
    "# Tawic mode\n",
    "\n",
    "Tawic computes tide- and wind-driven currents by solving the nonlinear two-dimensional hydrodynamic equations using a finite differencing method. For more information about Tawic read the descrption <a href='http://www.sciencedirect.com/science/article/pii/S0098300496000477'>paper</a>.\n",
    "\n",
    "### Circulation in Massachusetts bay﻿\n",
    "<img src='https://lh3.googleusercontent.com/-cw3W6wOSGE4/U7qD50DCGOI/AAAAAAAAAUw/jK7mHtQMTlc/w1012-h962/massachusets_ocean.png' width=500>\n",
    "\n",
    "<br/>\n",
    "<br/>\n",
    "\n",
    "The data manipulation preserves the georeferencing information of the DEM, allowing later projection of the model in a GIS client (or Google Earth).\n",
    "First we upload the libraries that we will use..."
   ]
  },
  {
   "cell_type": "code",
   "execution_count": 1,
   "metadata": {
    "collapsed": false
   },
   "outputs": [
    {
     "name": "stdout",
     "output_type": "stream",
     "text": [
      "Populating the interactive namespace from numpy and matplotlib\n"
     ]
    }
   ],
   "source": [
    "%pylab inline\n",
    "%matplotlib inline\n",
    "import os\n",
    "import csv\n",
    "import glob\n",
    "import subprocess\n",
    "import numpy as np\n",
    "import myOSshell as myos"
   ]
  },
  {
   "cell_type": "markdown",
   "metadata": {
    "slideshow": {
     "slide_type": "slide"
    }
   },
   "source": [
    "# Model setup\n",
    "\n",
    "We will test the coupled model on the South Australian shelf around Kangaroo Island.\n",
    "\n",
    "I've been using the same XYZ ASCII files from GA that we've manipulated on previous notebook.\n",
    "\n",
    "<small>*Reference: Whiteway, T., 2009. Australian Bathymetry and Topography Grid, June 2009. Scale 1:5000000. Geoscience Australia, Canberra. http://dx.doi.org/10.4225/25/53D99B6581B9A*\n",
    "</small>"
   ]
  },
  {
   "cell_type": "code",
   "execution_count": 12,
   "metadata": {
    "collapsed": false
   },
   "outputs": [],
   "source": [
    "import gmaps\n",
    "data = [ [ -35.8333,137.2500],[-30.7678,128.9700] ,[-37.8000, 144.950]]\n",
    "gmaps.heatmap(data, width=\"400px\")"
   ]
  },
  {
   "cell_type": "markdown",
   "metadata": {
    "slideshow": {
     "slide_type": "subslide"
    }
   },
   "source": [
    "The initial grid looks like this:\n",
    "<img src='./gab/gab2.jpg' width=800>"
   ]
  },
  {
   "cell_type": "markdown",
   "metadata": {
    "slideshow": {
     "slide_type": "slide"
    }
   },
   "source": [
    "# Input files\n",
    "\n",
    "\n",
    "The dataset for running the example is located in the **gab** repository and consist in:\n",
    "\n",
    "+ a input file name gabocean.xml\n",
    "+ a **data** folder containing the grid information *gab_topo.nodes* which has the same format as the one we've just created for Sydney area\n",
    "\n",
    "Let us have a look at the **input file: gabocean.xml**"
   ]
  },
  {
   "cell_type": "code",
   "execution_count": 7,
   "metadata": {
    "collapsed": false
   },
   "outputs": [
    {
     "name": "stdout",
     "output_type": "stream",
     "text": [
      "bath.csv  \u001b[0m\u001b[01;34mgab\u001b[0m/  Lecture-overview.ipynb  myOSshell.py  myOSshell.pyc  NB1-SWE2D.ipynb  NB2-BathymetryGen.ipynb  NB3-OceanSim.ipynb  \u001b[01;34mSydOceanT\u001b[0m/  \u001b[01;35mXYZ_Index.jpg\u001b[0m\n",
      "['./gab/gabocean.xml', './gab/data', './gab/gab2.jpg', './gab/gab1.jpg', './gab/gab3.jpg']\n"
     ]
    }
   ],
   "source": [
    "%ls\n",
    "myos.list_dir('./gab')"
   ]
  },
  {
   "cell_type": "code",
   "execution_count": null,
   "metadata": {
    "collapsed": true,
    "slideshow": {
     "slide_type": "-"
    }
   },
   "outputs": [],
   "source": [
    "# name: gabocean.xml\n",
    "# type: text/xml\n",
    "# size: 4266 bytes \n",
    "###########################\n",
    "<?xml version=\"1.0\" encoding=\"UTF-8\"?>\n",
    "<lecode:oceanInput xmlns:xsi=\"http://www.w3.org/2001/XMLSchema-instance\"\n",
    "xmlns:lecode=\"http://subversion.assembla.com/svn/xsd/XSDlecode\"\n",
    "xsi:schemaLocation=\"http://subversion.assembla.com/svn/xsd/XSDlecode\n",
    "http://subversion.assembla.com/svn/xsd/XSDlecode/OCEAN.xsd\">\n",
    "\n",
    "<!-- Declaration of the DEM file -->\n",
    "<TopoGrid>\n",
    "    <!-- Name of the DEM file -->\n",
    "    <Grid>data/gab_topo.nodes</Grid>\n",
    "    <!-- Number of nodes along the X and Y direction -->\n",
    "    <GridX>250</GridX>\n",
    "    <GridY>250</GridY>\n",
    "    <!-- Grid spacing in metres --> \n",
    "    <GridSpace>3000</GridSpace>\n",
    "    <!-- Mean latitude of the grid -->\n",
    "    <latGrid>-32.5</latGrid>\n",
    "    <!-- Synchronisation folder if coupled to sediment transport model -->\n",
    "    <syncFolder>Poseidon</syncFolder>\n",
    "    <!-- Flag for sediment transport model : 0=off - 1=on -->\n",
    "    <spmForcing>0</spmForcing>\n",
    "    <!-- Top sedimentary layer thickness (in metres)-->\n",
    "    <initDep>50</initDep>\n",
    "    <!-- Flag for ocean circulation model: 0=off - 1=on -->\n",
    "    <circForcing>1</circForcing>\n",
    "    <!-- Flag for wave  model: 0=off - 1=on -->\n",
    "    <waveForcing>1</waveForcing>\n",
    "</TopoGrid>\n",
    "  \n",
    "<!-- Declaration of simulation time -->\n",
    "<Time>\n",
    "    <!-- Start time in years -->\n",
    "    <startTime>0</startTime>\n",
    "    <!-- End time in years -->\n",
    "    <endTime>0.2</endTime>\n",
    "    <!-- Synchronisation time in years when coupling to sediment transport model -->\n",
    "    <syncTime>0.1</syncTime>\n",
    "    <!-- Output time in years -->\n",
    "    <outputTime>0.1</outputTime>\n",
    "</Time>\n",
    "  \n",
    "<!-- Declaration of ocean circulation parameters -->\n",
    "<CirculationParam>\n",
    "    <!--  Time step limitation (Courant numbers) Calculations usually become unstable for Courant numbers > 3-5.-->\n",
    "    <Courant>1</Courant>\n",
    "    <!-- Storm averaged duration in hours -->  \n",
    "    <stormTime>48</stormTime>\n",
    "    <!-- Coefficient of bottom friction -->\n",
    "    <fricCoef>0.0005</fricCoef>\n",
    "     <!-- number of time-steps at which the calculated values of U, V, and surface elevation are filtered--> \n",
    "    <filterStep>10</filterStep>\n",
    "</CirculationParam>\n",
    "  \n",
    "<!-- Declaration of wave and wind forcing parameters -->\n",
    "  <OceanForecast>\n",
    "    <!-- Maximum water depth (metres) above which waves have no effect -->\n",
    "    <waveBase>50.0</waveBase>\n",
    "    <!-- Wind scenarios number: \n",
    "    you will need to define as many forecastClass elements as the number of forecast defined here-->\n",
    "    <nbForecast>2</nbForecast>\n",
    "    <forecastClass>\n",
    "       <!-- Each forecast can have several wind parameters subgroups \n",
    "        This element defines the number of subgroups -->\n",
    "    <subgroupNb>1</subgroupNb>\n",
    "       <!-- Start time of the forecast in years -->\n",
    "    <start>0</start>\n",
    "       <!-- End time of the forecast in years -->\n",
    "    <end>0.1</end>\n",
    "       <!-- Subgroup wind parameters which consists in:\n",
    "        - first number: percentage of activity (between 0 and 1) of the considered subgroup over the considered forecast time only relevant if sediment transport is turned on\n",
    "        - second number: wind speed in m/s at 10 m above sea-level\n",
    "        - third number direction towards which the wind is blowing (in degrees) starting from the Ox axis\n",
    "    -->\n",
    "      <subgroupParam>0.3 20.0 140.0</subgroupParam>\n",
    "    </forecastClass>\n",
    "    <forecastClass>\n",
    "       <!-- Each forecast can have several wind parameters subgroups. \n",
    "        This element defines the number of subgroups. -->\n",
    "    <subgroupNb>1</subgroupNb>\n",
    "       <!-- Start time of the forecast in years -->\n",
    "    <start>0.1</start>\n",
    "       <!-- End time of the forecast in years -->\n",
    "    <end>0.2</end>\n",
    "       <!-- Subgroup wind parameters which consists in:\n",
    "        - first number: percentage of activity (between 0 and 1) of the considered subgroup over the considered forecast time only relevant if sediment transport is turned on\n",
    "        - second number: wind speed in m/s at 10 m above sea-level\n",
    "        - third number direction towards which the wind is blowing (in degrees) starting from the Ox axis\n",
    "    -->\n",
    "      <subgroupParam>0.3 20.0 240.0</subgroupParam>\n",
    "    </forecastClass>\n",
    "</OceanForecast>\n",
    "  \n",
    "<!-- Output directory name-->\n",
    "  <OutputDirectory>mygab</OutputDirectory>\n",
    "</lecode:oceanInput>"
   ]
  },
  {
   "cell_type": "markdown",
   "metadata": {
    "slideshow": {
     "slide_type": "slide"
    }
   },
   "source": [
    "# Running the coupled model\n",
    "\n",
    "To run the model we need to gives the full path to:\n",
    "\n",
    "1. the folder containing the input file: in this case <code>'./gab'</code>\n",
    "2. the input file name: in this case <code>'gabocean.xml'</code>\n",
    "\n",
    "The run takes about 200s to finish..."
   ]
  },
  {
   "cell_type": "code",
   "execution_count": 6,
   "metadata": {
    "collapsed": true
   },
   "outputs": [],
   "source": [
    "#myos.ocean_command('./gab','gabocean.xml')"
   ]
  },
  {
   "cell_type": "markdown",
   "metadata": {},
   "source": [
    "From the input file we should have the run output stored in a folder name <code>mygab</code>. Using shell command list the files contained in this directory:"
   ]
  },
  {
   "cell_type": "code",
   "execution_count": 8,
   "metadata": {
    "collapsed": false
   },
   "outputs": [
    {
     "name": "stdout",
     "output_type": "stream",
     "text": [
      "bath.csv  \u001b[0m\u001b[01;34mgab\u001b[0m/  Lecture-overview.ipynb  myOSshell.py  myOSshell.pyc  NB1-SWE2D.ipynb  NB2-BathymetryGen.ipynb  NB3-OceanSim.ipynb  \u001b[01;34mSydOceanT\u001b[0m/  \u001b[01;35mXYZ_Index.jpg\u001b[0m\n",
      "[]\n"
     ]
    }
   ],
   "source": [
    "%ls\n",
    "myos.list_dir('./gab/mygab')"
   ]
  },
  {
   "cell_type": "markdown",
   "metadata": {
    "slideshow": {
     "slide_type": "subslide"
    }
   },
   "source": [
    "# Compressing the output and Dropbox upload\n",
    "\n",
    "To visualise the output we will be using a visualisation software called **Paraview**. At the moment this package is not installed as an IPython library and we will need to transfert our simulation files to our local computer where we have installed Paraview.\n",
    "\n",
    "To do so we will first compress our output folder:"
   ]
  },
  {
   "cell_type": "code",
   "execution_count": 9,
   "metadata": {
    "collapsed": true
   },
   "outputs": [],
   "source": [
    "myos.tar_command('gabsim.tar','./gab/mygab')\n",
    "%ls"
   ]
  },
  {
   "cell_type": "markdown",
   "metadata": {},
   "source": [
    "Then we will upload the compressed folder called **gabsim.tar** from the Amazon server to our **Dropbox** account:\n",
    "\n",
    "Dropbox credentials:\n",
    "\n",
    "+ name mars5001\n",
    "+ surname usyd\n",
    "+ mail tristan.salles@sydney.edu.au\n",
    "+ password mars5001\n",
    "\n",
    "From the Dropbox we can finally get the compressed file on our local machine! "
   ]
  },
  {
   "cell_type": "code",
   "execution_count": 11,
   "metadata": {
    "collapsed": false
   },
   "outputs": [],
   "source": [
    "myos.dropbox_upload('.','gabsim.tar','.')"
   ]
  },
  {
   "cell_type": "markdown",
   "metadata": {
    "slideshow": {
     "slide_type": "subslide"
    }
   },
   "source": [
    "# Cleaning\n",
    "\n",
    "Before going to the visualisation make a bit of cleaning on the server side"
   ]
  },
  {
   "cell_type": "code",
   "execution_count": 13,
   "metadata": {
    "collapsed": false
   },
   "outputs": [],
   "source": [
    "# Delete the output folder\n",
    "myos.delete('/gab/mygab')"
   ]
  },
  {
   "cell_type": "code",
   "execution_count": 14,
   "metadata": {
    "collapsed": true
   },
   "outputs": [],
   "source": [
    "# Delete the compressed file\n",
    "myos.delete('gabsim.tar')"
   ]
  },
  {
   "cell_type": "markdown",
   "metadata": {
    "slideshow": {
     "slide_type": "slide"
    }
   },
   "source": [
    "# Visualisation with Paraview<img src='http://www.paraview.org/wp-content/uploads/2014/04/ParaViewLogo.png' width=100>\n",
    "\n",
    "\n",
    "### What is Paraview\n",
    "\n",
    "Paraview is an open-source, multi-platform data analysis and visualization application. ParaView users can quickly build visualizations to analyze their data using qualitative and quantitative techniques. The data exploration can be done interactively in 3D or programmatically using ParaView’s batch processing capabilities.\n",
    "\n",
    "### Download Paraview\n"
   ]
  },
  {
   "cell_type": "code",
   "execution_count": 10,
   "metadata": {
    "collapsed": false
   },
   "outputs": [
    {
     "data": {
      "text/html": [
       "<iframe src=http://www.paraview.org width=600 height=500></iframe>"
      ],
      "text/plain": [
       "<IPython.core.display.HTML object>"
      ]
     },
     "execution_count": 10,
     "metadata": {},
     "output_type": "execute_result"
    }
   ],
   "source": [
    "from IPython.core.display import HTML\n",
    "HTML('<iframe src=http://www.paraview.org width=600 height=500></iframe>')"
   ]
  },
  {
   "cell_type": "markdown",
   "metadata": {
    "slideshow": {
     "slide_type": "subslide"
    }
   },
   "source": [
    "### Model output structure\n",
    "\n",
    "From Dropbox you have downloaded **gabsim.tar** to your local machine. Once it's done uncompressed the tar file then navigate to the output directory called **mygab**, the model output structure should be similar to this:\n",
    "\n",
    "+ mygab\n",
    "    + outputs\n",
    "        + Ocean_series.xdmf\n",
    "        + Ocean.XXXX.xmf\n",
    "        + OceanGrid.XXXX.h5\n",
    "        + swan.csv\n",
    "    + inputs\n",
    "        + swanInfo\n",
    "        + swan.bot\n",
    "        + swan.swn\n",
    "\n",
    "The only file that needs to be loaded in Paraview is the **Ocean_series.xdmf** which is a time serie file that is automatically calling the other files through **Paraview**."
   ]
  },
  {
   "cell_type": "markdown",
   "metadata": {
    "slideshow": {
     "slide_type": "subslide"
    }
   },
   "source": [
    "\n",
    "### Paraview calculators\n",
    "\n",
    "The model output records the following parameters:\n",
    "\n",
    "+ Bathy: bathymetry\n",
    "+ CurU: ocean circulation current along X\n",
    "+ CurV: ocean circulation current along Y\n",
    "+ WavU: wave induced current along X\n",
    "+ WavV: wave induced current along Y\n",
    "+ WavHs: significant wave height\n",
    "+ WavP:  wave period\n",
    "+ WavWl: wave lenght\n",
    "\n",
    "To compute induced current magnitude you can use a **Calculator** in Paraview like this.\n",
    "\n",
    "#### Ocean circulation current \n",
    "\n",
    "<code>iHat\\*CurU_grp1+jHat\\*CurV_grp1</code>\n",
    "\n",
    "#### Wave current\n",
    "\n",
    "<code>iHat\\*WavU_grp1+jHat\\*WavV_grp1</code>\n",
    "\n",
    "#### Combined wave/ocean\n",
    "\n",
    "<code>iHat\\*(CurU_grp1+WavU_grp1) +jHat\\*(CurV_grp1+WavV_grp1)</code>"
   ]
  },
  {
   "cell_type": "markdown",
   "metadata": {
    "slideshow": {
     "slide_type": "subslide"
    }
   },
   "source": [
    "\n",
    "### Loading state\n",
    "\n",
    "In Dropbox, there is a folder called **ParaviewUtility** which contains a file called *pv_state.pvsm*. This file is a *paraview state* that contains a predefined visualisation state with calculators and glyphs already set up as well as color scale. You can download this state and try to open the state from Paraview. You will have to point to the directory where you've uncompressed the model output. Depending of your OS (Mac,Linux,Windows) it might not work perfectly....   \n",
    "<br/>\n",
    "<br/>\n",
    "### Combined ocean circulation & wave velocity field for wind scenario 2\n",
    "\n",
    "<img src='./gab/gab3.jpg' width=700>"
   ]
  },
  {
   "cell_type": "markdown",
   "metadata": {
    "slideshow": {
     "slide_type": "notes"
    }
   },
   "source": [
    "\n",
    "# Example of impact of sea-level change on sediment transport\n",
    "\n",
    "Below is an example of using the same dataset as yours plus the sediment transport component to look at long-term evolution of transport from land to coast and from coast to shelf:\n",
    "\n",
    "#### Wind induced currents \n",
    "<img src='https://lh3.googleusercontent.com/-VMq7k4O7D90/U6_m8jyhgsI/AAAAAAAAARU/oJnqT__jKA8/w1012-h894/circFW.avi' width=200>\n",
    "\n",
    "#### Surface mean grain size evolution\n",
    "<img src='https://lh3.googleusercontent.com/-mEVX0SDc2Gg/U6_vUaq0jxI/AAAAAAAAATA/Lv6DWxu1AkQ/w1012-h894/gsz.avi' width=200>\n",
    "\n",
    "#### Erosion deposition evolution\n",
    "<img src='https://lh3.googleusercontent.com/-w9Q-MsWFEcI/U6_otZV0m7I/AAAAAAAAASM/yAIW2PJTV8U/w1012-h894/elevChg.avi' width=200>"
   ]
  }
 ],
 "metadata": {
  "kernelspec": {
   "display_name": "Python 2",
   "language": "python",
   "name": "python2"
  },
  "language_info": {
   "codemirror_mode": {
    "name": "ipython",
    "version": 2
   },
   "file_extension": ".py",
   "mimetype": "text/x-python",
   "name": "python",
   "nbconvert_exporter": "python",
   "pygments_lexer": "ipython2",
   "version": "2.7.6"
  }
 },
 "nbformat": 4,
 "nbformat_minor": 0
}
