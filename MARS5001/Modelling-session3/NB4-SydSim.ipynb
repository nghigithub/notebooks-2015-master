{
 "cells": [
  {
   "cell_type": "markdown",
   "metadata": {
    "slideshow": {
     "slide_type": "slide"
    }
   },
   "source": [
    "# Notebook 4: NB4-SydSim\n",
    "\n",
    "# Testing the coupled ocean circulation wave model on Sydney topography"
   ]
  },
  {
   "cell_type": "markdown",
   "metadata": {
    "slideshow": {
     "slide_type": "slide"
    }
   },
   "source": [
    "# Goal\n",
    "\n",
    "Based on the South Australian model from the previous notebook and using the grid file for Offshore Sydney, you will run a coupled ocean circulation wave model for a series of wind velocities and directions.\n",
    "\n",
    "This notebook is just a squeleton to guide you through the process..."
   ]
  },
  {
   "cell_type": "code",
   "execution_count": 1,
   "metadata": {
    "collapsed": false
   },
   "outputs": [
    {
     "name": "stdout",
     "output_type": "stream",
     "text": [
      "Populating the interactive namespace from numpy and matplotlib\n"
     ]
    }
   ],
   "source": [
    "%pylab inline\n",
    "%matplotlib inline\n",
    "import os\n",
    "import csv\n",
    "import glob\n",
    "import subprocess\n",
    "import numpy as np\n",
    "import myOSshell as myos"
   ]
  },
  {
   "cell_type": "markdown",
   "metadata": {
    "slideshow": {
     "slide_type": "subslide"
    }
   },
   "source": [
    "## Set inputs\n",
    "\n",
    "We already have defined  the grid file **sydney.nodes** in the simulation folder: **./SydOceanT/data**"
   ]
  },
  {
   "cell_type": "code",
   "execution_count": 2,
   "metadata": {
    "collapsed": false
   },
   "outputs": [
    {
     "name": "stdout",
     "output_type": "stream",
     "text": [
      "['./SydOceanT/data/sydney.nodes']\n"
     ]
    }
   ],
   "source": [
    "# List data directory\n",
    "myos.list_dir('./SydOceanT/data')"
   ]
  },
  {
   "cell_type": "markdown",
   "metadata": {},
   "source": [
    "Copy the input file from the Gab model **gabocean.xml** into the **./SydOcean** folder"
   ]
  },
  {
   "cell_type": "code",
   "execution_count": 3,
   "metadata": {
    "collapsed": false
   },
   "outputs": [
    {
     "name": "stdout",
     "output_type": "stream",
     "text": [
      "['./SydOceanT/gabocean.xml', './SydOceanT/data']\n"
     ]
    }
   ],
   "source": [
    "# Copy file\n",
    "myos.copy('./gab/gabocean.xml','./SydOceanT')\n",
    "# List data directory\n",
    "myos.list_dir('./SydOceanT')"
   ]
  },
  {
   "cell_type": "markdown",
   "metadata": {
    "slideshow": {
     "slide_type": "subslide"
    }
   },
   "source": [
    "## Change XmL input \n",
    "\n",
    "Navigate through the Notebook dashboard and open the input file you've just copied. You can use the interactive dashboard iframe below... "
   ]
  },
  {
   "cell_type": "code",
   "execution_count": 7,
   "metadata": {
    "collapsed": false
   },
   "outputs": [
    {
     "data": {
      "text/html": [
       "<iframe src=https://ec2-52-11-155-224.us-west-2.compute.amazonaws.com:8888/tree width=800 height=600></iframe>"
      ],
      "text/plain": [
       "<IPython.core.display.HTML object>"
      ]
     },
     "execution_count": 7,
     "metadata": {},
     "output_type": "execute_result"
    }
   ],
   "source": [
    "from IPython.core.display import HTML\n",
    "HTML('<iframe src=https://ec2-52-11-155-224.us-west-2.compute.amazonaws.com:8888/tree width=800 height=600></iframe>')"
   ]
  },
  {
   "cell_type": "markdown",
   "metadata": {
    "slideshow": {
     "slide_type": "subslide"
    }
   },
   "source": [
    "# Running the coupled model\n",
    "\n",
    "To run the model we need to gives the full path to:\n",
    "\n",
    "1. the folder containing the input file: in this case <code>'./SydOceanT'</code>\n",
    "2. the input file name: in this case <code>'mySydtest.xml'</code>"
   ]
  },
  {
   "cell_type": "code",
   "execution_count": 3,
   "metadata": {
    "collapsed": true
   },
   "outputs": [],
   "source": [
    "myos.ocean_command('./SydOceanT','mySydtest.xml')"
   ]
  },
  {
   "cell_type": "markdown",
   "metadata": {
    "collapsed": true
   },
   "source": [
    "From the input file we should have the run output stored in a folder name <code>mySyd</code>. Using shell command list the files contained in this directory:"
   ]
  },
  {
   "cell_type": "code",
   "execution_count": 4,
   "metadata": {
    "collapsed": false
   },
   "outputs": [
    {
     "name": "stdout",
     "output_type": "stream",
     "text": [
      "bath.csv  \u001b[0m\u001b[01;34mgab\u001b[0m/  Lecture-overview.ipynb  myOSshell.py  myOSshell.pyc  NB1-SWE2D.ipynb  NB2-BathymetryGen.ipynb  NB3-OceanSim.ipynb  NB4-SydSim.ipynb  \u001b[01;34mSydOceanT\u001b[0m/  \u001b[01;35mXYZ_Index.jpg\u001b[0m\n",
      "['./SydOceanT/mySyd/outputs', './SydOceanT/mySyd/inputs']\n"
     ]
    }
   ],
   "source": [
    "%ls\n",
    "myos.list_dir('./SydOceanT/mySyd')"
   ]
  },
  {
   "cell_type": "markdown",
   "metadata": {
    "slideshow": {
     "slide_type": "subslide"
    }
   },
   "source": [
    "# Compressing the output and Dropbox upload"
   ]
  },
  {
   "cell_type": "code",
   "execution_count": 5,
   "metadata": {
    "collapsed": false
   },
   "outputs": [
    {
     "name": "stdout",
     "output_type": "stream",
     "text": [
      "bath.csv  \u001b[0m\u001b[01;34mgab\u001b[0m/  Lecture-overview.ipynb  myOSshell.py  myOSshell.pyc  \u001b[01;31mmySyd.tar\u001b[0m  NB1-SWE2D.ipynb  NB2-BathymetryGen.ipynb  NB3-OceanSim.ipynb  NB4-SydSim.ipynb  \u001b[01;34mSydOceanT\u001b[0m/  \u001b[01;35mXYZ_Index.jpg\u001b[0m\r\n"
     ]
    }
   ],
   "source": [
    "myos.tar_command('mySyd.tar','./SydOceanT/mySyd')\n",
    "%ls"
   ]
  },
  {
   "cell_type": "code",
   "execution_count": 6,
   "metadata": {
    "collapsed": true
   },
   "outputs": [],
   "source": [
    "myos.dropbox_upload('.','mySyd.tar','.')"
   ]
  },
  {
   "cell_type": "markdown",
   "metadata": {
    "slideshow": {
     "slide_type": "subslide"
    }
   },
   "source": [
    "# Cleaning"
   ]
  },
  {
   "cell_type": "code",
   "execution_count": null,
   "metadata": {
    "collapsed": true
   },
   "outputs": [],
   "source": [
    "# Delete the output folder\n",
    "myos.delete('/SydOceanT/mySyd')"
   ]
  },
  {
   "cell_type": "code",
   "execution_count": null,
   "metadata": {
    "collapsed": true
   },
   "outputs": [],
   "source": [
    "# Delete the compressed file\n",
    "myos.delete('mySyd.tar')"
   ]
  },
  {
   "cell_type": "markdown",
   "metadata": {
    "slideshow": {
     "slide_type": "subslide"
    }
   },
   "source": [
    "# Visualisation with Paraview\n",
    "\n",
    "## Paraview calculators\n",
    "\n",
    "The model output records the following parameters:\n",
    "\n",
    "+ Bathy: bathymetry\n",
    "+ CurU: ocean circulation current along X\n",
    "+ CurV: ocean circulation current along Y\n",
    "+ WavU: wave induced current along X\n",
    "+ WavV: wave induced current along Y\n",
    "+ WavHs: significant wave height\n",
    "+ WavP:  wave period\n",
    "+ WavWl: wave lenght\n",
    "\n",
    "#### Ocean circulation current \n",
    "\n",
    "<code>iHat\\*CurU_grp1+jHat\\*CurV_grp1</code>\n",
    "\n",
    "#### Wave current\n",
    "\n",
    "<code>iHat\\*WavU_grp1+jHat\\*WavV_grp1</code>\n",
    "\n",
    "#### Combined wave/ocean\n",
    "\n",
    "<code>iHat\\*(CurU_grp1+WavU_grp1) +jHat\\*(CurV_grp1+WavV_grp1)</code>"
   ]
  },
  {
   "cell_type": "markdown",
   "metadata": {
    "slideshow": {
     "slide_type": "subslide"
    }
   },
   "source": [
    "### Loading state\n",
    "\n",
    "In Dropbox, there is a folder called **ParaviewUtility** which contains a file called *pv_state2.pvsm*. This file is a *paraview state* that contains a predefined visualisation state with calculators and glyphs already set up as well as color scale. You can download this state and try to open the state from Paraview. You will have to point to the directory where you've uncompressed the model output. Depending of your OS (Mac,Linux,Windows) it might not work perfectly....   \n",
    "<br/>\n",
    "<br/>\n",
    "### Combined ocean circulation & wave velocity field\n",
    "\n",
    "#### Wind speed: $20.0$m/s direction: $90.0^o$ from North\n",
    "<img src='./SydOceanT/syd2.jpg' width=500>\n",
    "\n",
    "#### Wind speed: $20.0$m/s direction: $240.0^o$ from North\n",
    "<img src='./SydOceanT/syd1.jpg' width=500>"
   ]
  }
 ],
 "metadata": {
  "kernelspec": {
   "display_name": "Python 2",
   "language": "python",
   "name": "python2"
  },
  "language_info": {
   "codemirror_mode": {
    "name": "ipython",
    "version": 2
   },
   "file_extension": ".py",
   "mimetype": "text/x-python",
   "name": "python",
   "nbconvert_exporter": "python",
   "pygments_lexer": "ipython2",
   "version": "2.7.6"
  }
 },
 "nbformat": 4,
 "nbformat_minor": 0
}
