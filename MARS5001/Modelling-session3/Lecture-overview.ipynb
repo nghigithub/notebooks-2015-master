{
 "cells": [
  {
   "cell_type": "markdown",
   "metadata": {
    "slideshow": {
     "slide_type": "slide"
    }
   },
   "source": [
    "# MARS5001\n",
    "\n",
    "## Modelling 3 - Ocean circulation & wave propagation on real bathymetry \n",
    "\n",
    "\n",
    "<br/>\n",
    "Tristan Salles - The University of Sydney - School of Geosciences\n",
    "\n",
    "---\n",
    "\n",
    "<img src='http://whyfiles.org/wp-content/uploads/2013/06/nasa_ocean.jpg', width=1000>"
   ]
  },
  {
   "cell_type": "markdown",
   "metadata": {
    "collapsed": false,
    "slideshow": {
     "slide_type": "slide"
    }
   },
   "source": [
    "## Overview\n",
    "\n",
    "<p>In the analysis of coastal hydrodynamic processes, modelling (physical, numerical and composite) is often employed to simulate the main phenomena in these regions.</p>\n",
    "\n",
    "<p>Hydrodynamic modelling forms the basis for many modelling studies, whether sediment transport, morphology, waves, water quality and/or ecological changes are being investigated. Research is being carried out to improve the representation of tides, waves, currents, and surge in coastal waters.</p>"
   ]
  },
  {
   "cell_type": "markdown",
   "metadata": {
    "slideshow": {
     "slide_type": "subslide"
    }
   },
   "source": [
    "\n",
    "## Objectives & Learning Outcomes (OLOs)\n",
    "\n",
    "### OLO-1\n",
    "\n",
    "<p>Using the shallow water equations in 2D create a simple model of dam break. Understand the main equations: conservation of mass and momentum, the concept of time and space discretisations, boundary problems and initial conditions,</p>\n",
    "\n",
    "### OLO-2\n",
    "<p>Using GIS tools directly in IPython, create a bathymetry map of the Sydney coastal region: transformation between different geographical system, define grid resolution and merge subgrids. </p>\n",
    "\n",
    "### OLO-3\n",
    "<p>Being able to set-up your own Ocean model on a 2D bathymetry grid and for a serie of initial conditions being capable of extracting information regarding wave velocity, height and energy.</p>"
   ]
  },
  {
   "cell_type": "markdown",
   "metadata": {
    "slideshow": {
     "slide_type": "subslide"
    }
   },
   "source": [
    "## Lecture structure\n",
    "\n",
    "The lecture is organised around 3 <code>IPython Notebooks</code>.\n",
    "\n",
    "---\n",
    "\n",
    "### Notebook 1: NB1-SWE2D\n",
    "#### Shallow Water Equations in 2D\n",
    "\n",
    "<a href='https://ec2-52-11-155-224.us-west-2.compute.amazonaws.com:8888/notebooks/Modelling-session3/NB1-SWE2D.ipynb'> Go to notebook1 </a>\n",
    "\n",
    "\n",
    "---\n",
    "\n",
    "### Notebook 2: NB2-BathymetryGen\n",
    "#### Sydney Coastal Region Bathymetry \n",
    "\n",
    "<a href='https://ec2-52-11-155-224.us-west-2.compute.amazonaws.com:8888/notebooks/Modelling-session3/NB2-BathymetryGen.ipynb'> Go to notebook2 </a>\n",
    "\n",
    "---\n",
    "\n",
    "### Notebook 3: NB3-OceanSim\n",
    "#### Coupled ocean circulation wave model on real topography\n",
    "\n",
    "<a href='https://ec2-52-11-155-224.us-west-2.compute.amazonaws.com:8888/notebooks/Modelling-session3/NB3-OceanSim.ipynb'> Go to notebook3 </a>\n",
    "\n",
    "---\n",
    "\n",
    "### Notebook 4: NB4-SydSim\n",
    "#### Coupled ocean circulation wave model for Offshore Sydney\n",
    "\n",
    "<a href='https://ec2-52-11-155-224.us-west-2.compute.amazonaws.com:8888/notebooks/Modelling-session3/NB4-SydSim.ipynb'> Go to notebook4 </a>\n",
    "\n",
    "---\n",
    "\n",
    "<small>\n",
    "The notebooks and materials for this lecture have been deployed using the <a href='http://aws.amazon.com'>Amazon Web Services</a> Cloud Computing Services.\n",
    "</small>"
   ]
  }
 ],
 "metadata": {
  "kernelspec": {
   "display_name": "Python 2",
   "language": "python",
   "name": "python2"
  },
  "language_info": {
   "codemirror_mode": {
    "name": "ipython",
    "version": 2
   },
   "file_extension": ".py",
   "mimetype": "text/x-python",
   "name": "python",
   "nbconvert_exporter": "python",
   "pygments_lexer": "ipython2",
   "version": "2.7.6"
  }
 },
 "nbformat": 4,
 "nbformat_minor": 0
}
