{
 "cells": [
  {
   "cell_type": "markdown",
   "metadata": {
    "slideshow": {
     "slide_type": "slide"
    }
   },
   "source": [
    "# MARS5001\n",
    "\n",
    "## Modelling 1 - Query data & models from the Web \n",
    "\n",
    "<br/>\n",
    "Tristan Salles - The University of Sydney - School of Geosciences\n",
    "\n",
    "---\n",
    "\n",
    "<img src='http://whyfiles.org/wp-content/uploads/2013/06/nasa_ocean.jpg', width=1000>"
   ]
  },
  {
   "cell_type": "markdown",
   "metadata": {
    "slideshow": {
     "slide_type": "slide"
    }
   },
   "source": [
    "## Overview\n",
    "\n",
    "<p>Numerical models typically take data as input, manipulate that data to produce output which means more data... Over the course of a multi-year research project, most reseachers will write many different programs that produce many different output datasets.</p>\n",
    "\n",
    "<p>In particular, they will need to develop automatic pre-processing and post-processing workflows to efficiently manage dataset and create outputs. Considering the increasing number of observations available over the web, being able to perform this type of work is critical.</p>\n",
    "\n",
    "<p>In addition, any produced dataset will be useful if other agencies/researchers are able to access it. For this to happen your data will need to follow the formating and convention that are used in your research area.</p>"
   ]
  },
  {
   "cell_type": "markdown",
   "metadata": {
    "slideshow": {
     "slide_type": "subslide"
    }
   },
   "source": [
    "## Objectives & Learning Outcomes (OLOs)\n",
    "\n",
    "#### OLO-1\n",
    "\n",
    "<small>Being able to collect data from various service providers using OpenDAP and THREDDS (IMOS, AODN, BOM, NOAA),</small>\n",
    "\n",
    "#### OLO-2\n",
    "<small>Learn how to query the obtained file to see its structure,and perform basic manipulations with the dataset and visualise the result,</small>\n",
    "\n",
    "#### OLO-3\n",
    "<small>Being able to load data from hindcast and forecast models and compute from extracted models trend in ocean evolution.</small>"
   ]
  },
  {
   "cell_type": "code",
   "execution_count": 2,
   "metadata": {
    "collapsed": false,
    "slideshow": {
     "slide_type": "-"
    }
   },
   "outputs": [
    {
     "data": {
      "text/html": [
       "\n",
       "        <iframe\n",
       "            width=\"400\"\n",
       "            height=\"300\"\n",
       "            src=\"https://www.youtube.com/embed/CCmTY0PKGDs\"\n",
       "            frameborder=\"0\"\n",
       "            allowfullscreen\n",
       "        ></iframe>\n",
       "        "
      ],
      "text/plain": [
       "<IPython.lib.display.YouTubeVideo at 0x7fe8e27f4b10>"
      ]
     },
     "execution_count": 2,
     "metadata": {},
     "output_type": "execute_result"
    }
   ],
   "source": [
    "from IPython.display import YouTubeVideo\n",
    "YouTubeVideo('CCmTY0PKGDs')"
   ]
  },
  {
   "cell_type": "markdown",
   "metadata": {
    "slideshow": {
     "slide_type": "subslide"
    }
   },
   "source": [
    "## Lecture structure\n",
    "\n",
    "<small>The lecture is organised around 4 <code>IPython Notebooks</code>. The <code>IPython Notebook</code> is a web-based interactive computational environment where you can combine code execution, text, mathematics, plots and rich media into a single document. </small>\n",
    "\n",
    "---\n",
    "\n",
    "#### Notebook 1: NB1-ACORN  &mdash; Ocean Radar Data Query\n",
    "\n",
    "<small><a href='https://ec2-52-11-155-224.us-west-2.compute.amazonaws.com:8888/notebooks/NB1-ACORN.ipynb'> Go to notebook1 </a></small>\n",
    "\n",
    "\n",
    "---\n",
    "\n",
    "#### Notebook 2: NB2-BuoyWW3 &mdash; Historical records and past models\n",
    "\n",
    "<small><a href='https://ec2-52-11-155-224.us-west-2.compute.amazonaws.com:8888/notebooks/NB2-BuoyWW3.ipynb'> Go to notebook2 </a></small>\n",
    "\n",
    "---\n",
    "\n",
    "#### Notebook 3: NB3-Forecast &mdash; Access data from Forecast Model\n",
    "\n",
    "<small><a href='https://ec2-52-11-155-224.us-west-2.compute.amazonaws.com:8888/notebooks/NB3-Forecast.ipynb'> Go to notebook3 </a></small>\n",
    "\n",
    "---\n",
    "\n",
    "#### Notebook 4: NB4-Ekman &mdash; Compute Ekman current from wind data\n",
    "\n",
    "\n",
    "<small><a href='https://ec2-52-11-155-224.us-west-2.compute.amazonaws.com:8888/notebooks/NB4-Ekman.ipynb'> Go to notebook4 </a></small>\n",
    "\n",
    "---\n",
    "\n",
    "<small>\n",
    "The notebooks and materials for this lecture have been deployed using the <a href='http://aws.amazon.com'>Amazon Web Services</a> Cloud Computing Services.\n",
    "</small>"
   ]
  }
 ],
 "metadata": {
  "celltoolbar": "Slideshow",
  "kernelspec": {
   "display_name": "Python 2",
   "language": "python",
   "name": "python2"
  },
  "language_info": {
   "codemirror_mode": {
    "name": "ipython",
    "version": 2
   },
   "file_extension": ".py",
   "mimetype": "text/x-python",
   "name": "python",
   "nbconvert_exporter": "python",
   "pygments_lexer": "ipython2",
   "version": "2.7.6"
  }
 },
 "nbformat": 4,
 "nbformat_minor": 0
}
