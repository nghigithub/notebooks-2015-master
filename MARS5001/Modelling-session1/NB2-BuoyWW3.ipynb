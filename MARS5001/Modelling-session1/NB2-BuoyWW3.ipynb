{
 "cells": [
  {
   "cell_type": "markdown",
   "metadata": {
    "slideshow": {
     "slide_type": "slide"
    }
   },
   "source": [
    "# MARS5001 Coastal Processes and Systems  \n",
    "\n",
    "\n",
    "# NB2 - Historical records and past models"
   ]
  },
  {
   "cell_type": "markdown",
   "metadata": {
    "slideshow": {
     "slide_type": "slide"
    }
   },
   "source": [
    "Access to historical records and past models is important to \n",
    "* evaluate global and local impacts of climate change & anthropogenic influences and \n",
    "* test and validate models. In the modelling area, this kind of approach is done  routinely to evaluate models performances (hindcast models).\n",
    "\n",
    "Here we will see how we can query historical data from a buoy located offshore of Sydney and how to get wave historical data from the WaveWatch3 model for Maroubra Beach (NSW-Australia). "
   ]
  },
  {
   "cell_type": "code",
   "execution_count": 3,
   "metadata": {
    "collapsed": true
   },
   "outputs": [],
   "source": [
    "%matplotlib inline\n",
    "from pylab import *\n",
    "import netCDF4\n",
    "import datetime as dt"
   ]
  },
  {
   "cell_type": "markdown",
   "metadata": {
    "slideshow": {
     "slide_type": "slide"
    }
   },
   "source": [
    "# Historical buoy data\n",
    "\n",
    "We will use a dataset containing ocean wave data from a wave monitoring buoy moored off Sydney at latitude -33.775278, longitude 151.417778 and water depth 85 metres.  \n",
    "\n",
    "The data is gathered using the Directional Waverider system developed by the Dutch company, Datawell. The Directional Waverider buoy utilises a heave-pitch-roll sensor, two fixed X and Y accelerometers and a three axis fluxgate compass to measure both vertical and horizontal motion.  An on-board processor converts the buoy motion to three orthogonal (vertical, north-south, east-west) translation signals that are transmitted to the shore station.  The directional spectrum is also routinely transmitted to the receiving station for further processing.  The wave data is stored on the receiving station PC before routine transfer to Manly Hydraulics Laboratory.\n",
    "\n",
    "Using GoogleMap widget let's have a look at the offshore position of the buoy, I've also added Maroubra beach location as we will use it latter in this notebook:"
   ]
  },
  {
   "cell_type": "code",
   "execution_count": 4,
   "metadata": {
    "collapsed": false
   },
   "outputs": [],
   "source": [
    "import gmaps\n",
    "data = [ [ -33.775278,151.417778 ],[-33.947314899999,151.25750340000002] ]\n",
    "gmaps.heatmap(data, width=\"500px\")"
   ]
  },
  {
   "cell_type": "markdown",
   "metadata": {
    "slideshow": {
     "slide_type": "slide"
    }
   },
   "source": [
    "# Loading historical buoy dataset\n",
    "\n",
    "As in our previous notebook the data is in netCDF4 format..."
   ]
  },
  {
   "cell_type": "code",
   "execution_count": 6,
   "metadata": {
    "collapsed": false
   },
   "outputs": [],
   "source": [
    "# Offshore Sydney buoy data\n",
    "nc_data=netCDF4.Dataset('http://www.metoc.gov.au/thredds/dodsC/MHLWAVE/Sydney/IMOS_ANMN-NSW_W_20050215T020000Z_WAVESYD_FV01_END-20080312T210000Z.nc')"
   ]
  },
  {
   "cell_type": "code",
   "execution_count": 7,
   "metadata": {
    "collapsed": false
   },
   "outputs": [
    {
     "data": {
      "text/html": [
       "<iframe src=http://www.metoc.gov.au/thredds/dodsC/MHLWAVE/Sydney/IMOS_ANMN-NSW_W_20050215T020000Z_WAVESYD_FV01_END-20080312T210000Z.nc.html width=600 height=500></iframe>"
      ],
      "text/plain": [
       "<IPython.core.display.HTML object>"
      ]
     },
     "execution_count": 7,
     "metadata": {},
     "output_type": "execute_result"
    }
   ],
   "source": [
    "from IPython.core.display import HTML\n",
    "HTML('<iframe src=http://www.metoc.gov.au/thredds/dodsC/MHLWAVE/Sydney/IMOS_ANMN-NSW_W_20050215T020000Z_WAVESYD_FV01_END-20080312T210000Z.nc.html width=600 height=500></iframe>')"
   ]
  },
  {
   "cell_type": "markdown",
   "metadata": {
    "slideshow": {
     "slide_type": "slide"
    }
   },
   "source": [
    "## Query dataset\n",
    "\n",
    "Let have a look at the loaded netCDF variables"
   ]
  },
  {
   "cell_type": "code",
   "execution_count": 8,
   "metadata": {
    "collapsed": false
   },
   "outputs": [
    {
     "data": {
      "text/plain": [
       "[u'LATITUDE',\n",
       " u'LONGITUDE',\n",
       " u'TIME',\n",
       " u'VAVH',\n",
       " u'HMEAN',\n",
       " u'HRMS',\n",
       " u'H10',\n",
       " u'HMAX',\n",
       " u'TCREST',\n",
       " u'VAVT',\n",
       " u'TSIG',\n",
       " u'YRMS',\n",
       " u'TP1',\n",
       " u'TP2',\n",
       " u'M0',\n",
       " u'VDIR']"
      ]
     },
     "execution_count": 8,
     "metadata": {},
     "output_type": "execute_result"
    }
   ],
   "source": [
    "nc_data.variables.keys()"
   ]
  },
  {
   "cell_type": "code",
   "execution_count": 9,
   "metadata": {
    "collapsed": false
   },
   "outputs": [
    {
     "name": "stdout",
     "output_type": "stream",
     "text": [
      "<type 'netCDF4.Variable'>\n",
      "float64 TIME(TIME)\n",
      "    long_name: time\n",
      "    units: days since 1950-01-01 00:00:00Z\n",
      "    comments: times are UTC time, to convert to local EST time add +10 hours\n",
      "    standard_name: time\n",
      "    _FillValue: 99999.0\n",
      "unlimited dimensions: TIME\n",
      "current shape = (25871,)\n",
      "filling off\n",
      "\n"
     ]
    }
   ],
   "source": [
    "print nc_data.variables['TIME']"
   ]
  },
  {
   "cell_type": "markdown",
   "metadata": {
    "slideshow": {
     "slide_type": "subslide"
    }
   },
   "source": [
    "## Find out time interval record\n",
    "\n",
    "Get the time extension of the gathered data..."
   ]
  },
  {
   "cell_type": "code",
   "execution_count": 13,
   "metadata": {
    "collapsed": false
   },
   "outputs": [
    {
     "name": "stdout",
     "output_type": "stream",
     "text": [
      "buoy record start time: 2005-Feb-15 02:00\n"
     ]
    }
   ],
   "source": [
    "start = dt.datetime(1985,1,1)\n",
    "# Get desired time step  \n",
    "time_var = nc_data.variables['TIME']\n",
    "itime = netCDF4.date2index(start,time_var,select='nearest')\n",
    "dtime = netCDF4.num2date(time_var[itime],time_var.units)\n",
    "daystr = dtime.strftime('%Y-%b-%d %H:%M')\n",
    "print 'buoy record start time:',daystr"
   ]
  },
  {
   "cell_type": "code",
   "execution_count": 14,
   "metadata": {
    "collapsed": false
   },
   "outputs": [
    {
     "name": "stdout",
     "output_type": "stream",
     "text": [
      "buoy record end time: 2008-Mar-12 20:59\n"
     ]
    }
   ],
   "source": [
    "end = dt.datetime(2016,1,1)\n",
    "# Get desired time step  \n",
    "time_var = nc_data.variables['TIME']\n",
    "itime2 = netCDF4.date2index(end,time_var,select='nearest')\n",
    "dtime2 = netCDF4.num2date(time_var[itime2],time_var.units)\n",
    "dayend = dtime2.strftime('%Y-%b-%d %H:%M')\n",
    "print 'buoy record end time:',dayend"
   ]
  },
  {
   "cell_type": "markdown",
   "metadata": {
    "collapsed": false,
    "slideshow": {
     "slide_type": "subslide"
    }
   },
   "source": [
    "## Buoy location\n",
    "\n",
    "Check the location of the data"
   ]
  },
  {
   "cell_type": "code",
   "execution_count": 15,
   "metadata": {
    "collapsed": false
   },
   "outputs": [
    {
     "name": "stdout",
     "output_type": "stream",
     "text": [
      "[ 151.417778] [-33.775278]\n"
     ]
    }
   ],
   "source": [
    "loni = nc_data.variables['LONGITUDE'][:]\n",
    "lati = nc_data.variables['LATITUDE'][:]\n",
    "print loni,lati\n",
    "names=[]\n",
    "names.append('Offshore Sydney Buoy')"
   ]
  },
  {
   "cell_type": "markdown",
   "metadata": {
    "slideshow": {
     "slide_type": "slide"
    }
   },
   "source": [
    "## Visualise buoy records\n",
    "\n",
    "Export for the time the desired buoy variable, here I've used the mean wave height:"
   ]
  },
  {
   "cell_type": "code",
   "execution_count": 16,
   "metadata": {
    "collapsed": true
   },
   "outputs": [],
   "source": [
    "times = nc_data.variables['TIME']\n",
    "jd_data = netCDF4.num2date(times[:],times.units).flatten()\n",
    "hm_data = nc_data.variables['HMEAN'][:].flatten()\n",
    "#hs_data = ma.masked_where(hs_data > 98., hs_data)"
   ]
  },
  {
   "cell_type": "markdown",
   "metadata": {},
   "source": [
    "Now plot the exported dataset"
   ]
  },
  {
   "cell_type": "code",
   "execution_count": 28,
   "metadata": {
    "collapsed": false,
    "scrolled": true
   },
   "outputs": [
    {
     "data": {
      "text/plain": [
       "<matplotlib.legend.Legend at 0x7fcd6ecb88d0>"
      ]
     },
     "execution_count": 28,
     "metadata": {},
     "output_type": "execute_result"
    },
    {
     "data": {
      "image/png": "[encoded data removed]",
      "text/plain": [
       "<matplotlib.figure.Figure at 0x7fcd6ebfaf90>"
      ]
     },
     "metadata": {},
     "output_type": "display_data"
    }
   ],
   "source": [
    "# make the time series plot, with nicely formatted labels\n",
    "MyDateFormatter = DateFormatter('%Y-%b-%d')\n",
    "fig = plt.figure(figsize=(8,6), dpi=80) \n",
    "ax1 = fig.add_subplot(111)\n",
    "\n",
    "ax1.plot(jd_data[itime:itime2],hm_data[itime:itime2]) \n",
    "ax1.xaxis.set_major_locator(WeekdayLocator(byweekday=MO,interval=12))\n",
    "ax1.xaxis.set_major_formatter(MyDateFormatter)\n",
    "ax1.grid(True)\n",
    "setp(gca().get_xticklabels(), rotation=45, horizontalalignment='right')\n",
    "plt.title('IMOS Offshore Sydney Buoy Data')\n",
    "ax1.set_ylabel('meters')\n",
    "ax1.legend(names,loc='upper right')"
   ]
  },
  {
   "cell_type": "markdown",
   "metadata": {
    "slideshow": {
     "slide_type": "slide"
    }
   },
   "source": [
    "# Query historic model data for a specific location\n",
    "\n",
    "We use data from WW3 model. \n",
    "Description of the Wavewatch3 model can be found <a href='http://polar.ncep.noaa.gov/waves/wavewatch/'>here</a>.\n",
    "\n",
    "<img src='http://www.worldwindsinc.com/wp-content/uploads/2012/12/wavewatch.png', width=600>"
   ]
  },
  {
   "cell_type": "code",
   "execution_count": 18,
   "metadata": {
    "collapsed": false,
    "slideshow": {
     "slide_type": "subslide"
    }
   },
   "outputs": [
    {
     "data": {
      "text/html": [
       "<iframe src=http://www.marineweather.net.au/models/?lt=wzcountry&lc=aus&mt=ww3 width=600 height=500></iframe>"
      ],
      "text/plain": [
       "<IPython.core.display.HTML object>"
      ]
     },
     "execution_count": 18,
     "metadata": {},
     "output_type": "execute_result"
    }
   ],
   "source": [
    "from IPython.core.display import HTML\n",
    "HTML('<iframe src=http://www.marineweather.net.au/models/?lt=wzcountry&lc=aus&mt=ww3 width=600 height=500></iframe>')"
   ]
  },
  {
   "cell_type": "markdown",
   "metadata": {
    "slideshow": {
     "slide_type": "slide"
    }
   },
   "source": [
    "## Loading historical model output\n",
    "\n",
    "Load the netCDF data from the wavewatch-3 model and query the variables which are embedded in the dataset"
   ]
  },
  {
   "cell_type": "code",
   "execution_count": 19,
   "metadata": {
    "collapsed": false
   },
   "outputs": [],
   "source": [
    "#OCEAN FORECAST MODEL WW3\n",
    "nc_data=netCDF4.Dataset('http://134.178.63.198/thredds/dodsC/paccsapwaves_gridded/ww3.glob_24m.199801.nc')"
   ]
  },
  {
   "cell_type": "code",
   "execution_count": 20,
   "metadata": {
    "collapsed": false
   },
   "outputs": [
    {
     "data": {
      "text/plain": [
       "[u'longitude',\n",
       " u'latitude',\n",
       " u'time',\n",
       " u'MAPSTA',\n",
       " u'U10',\n",
       " u'V10',\n",
       " u'CI',\n",
       " u'hs',\n",
       " u'wl',\n",
       " u't02',\n",
       " u't',\n",
       " u'tm0m1',\n",
       " u'CgE',\n",
       " u'fp',\n",
       " u'dir',\n",
       " u'spr',\n",
       " u'dp',\n",
       " u'hs0',\n",
       " u'hs1',\n",
       " u'hs2',\n",
       " u'hs3',\n",
       " u'tp0',\n",
       " u'tp1',\n",
       " u'tp2',\n",
       " u'tp3',\n",
       " u'lp0',\n",
       " u'lp1',\n",
       " u'lp2',\n",
       " u'lp3',\n",
       " u'th0',\n",
       " u'th1',\n",
       " u'th2',\n",
       " u'th3',\n",
       " u'si0',\n",
       " u'si1',\n",
       " u'si2',\n",
       " u'si3',\n",
       " u'ws0',\n",
       " u'ws1',\n",
       " u'ws2',\n",
       " u'ws3',\n",
       " u'wsf',\n",
       " u'pnr',\n",
       " u'dtd',\n",
       " u'uust',\n",
       " u'vust',\n",
       " u'cha',\n",
       " u'faw',\n",
       " u'utaw',\n",
       " u'vtaw',\n",
       " u'utwa',\n",
       " u'vtwa',\n",
       " u'wcc',\n",
       " u'Sxx',\n",
       " u'Syy',\n",
       " u'Sxy',\n",
       " u'utwo',\n",
       " u'vtwo',\n",
       " u'uuss',\n",
       " u'vuss']"
      ]
     },
     "execution_count": 20,
     "metadata": {},
     "output_type": "execute_result"
    }
   ],
   "source": [
    "nc_data.variables.keys()"
   ]
  },
  {
   "cell_type": "code",
   "execution_count": 21,
   "metadata": {
    "collapsed": false
   },
   "outputs": [
    {
     "name": "stdout",
     "output_type": "stream",
     "text": [
      "<type 'netCDF4.Variable'>\n",
      "float64 time(time)\n",
      "    long_name: julian day (UT)\n",
      "    standard_name: time\n",
      "    units: days since 1990-01-01T00:00:00Z\n",
      "    conventions: relative julian days with decimal part (as parts of the day )\n",
      "    axis: T\n",
      "    _ChunkSize: 1\n",
      "unlimited dimensions: time\n",
      "current shape = (744,)\n",
      "filling off\n",
      "\n"
     ]
    }
   ],
   "source": [
    "print nc_data.variables['time']"
   ]
  },
  {
   "cell_type": "markdown",
   "metadata": {
    "slideshow": {
     "slide_type": "slide"
    }
   },
   "source": [
    "## Find out time interval record\n",
    "\n",
    "Get the time extension of the gathered data"
   ]
  },
  {
   "cell_type": "code",
   "execution_count": 22,
   "metadata": {
    "collapsed": false
   },
   "outputs": [
    {
     "name": "stdout",
     "output_type": "stream",
     "text": [
      "WW3 dataset start time: 1998-Jan-01 00:00\n"
     ]
    }
   ],
   "source": [
    "start = dt.datetime(1980,1,1)\n",
    "# Get desired time step  \n",
    "time_var = nc_data.variables['time']\n",
    "itime = netCDF4.date2index(start,time_var,select='nearest')\n",
    "dtime = netCDF4.num2date(time_var[itime],time_var.units)\n",
    "daystart = dtime.strftime('%Y-%b-%d %H:%M')\n",
    "print 'WW3 dataset start time:',daystart"
   ]
  },
  {
   "cell_type": "code",
   "execution_count": 23,
   "metadata": {
    "collapsed": false
   },
   "outputs": [
    {
     "name": "stdout",
     "output_type": "stream",
     "text": [
      "WW3 dataset end time: 1998-Jan-31 23:00\n"
     ]
    }
   ],
   "source": [
    "end = dt.datetime(2016,1,1)\n",
    "# Get desired time step  \n",
    "time_var = nc_data.variables['time']\n",
    "itime2 = netCDF4.date2index(end,time_var,select='nearest')\n",
    "dtime2 = netCDF4.num2date(time_var[itime2],time_var.units)\n",
    "dayend = dtime2.strftime('%Y-%b-%d %H:%M')\n",
    "print 'WW3 dataset end time:', dayend"
   ]
  },
  {
   "cell_type": "markdown",
   "metadata": {
    "slideshow": {
     "slide_type": "subslide"
    }
   },
   "source": [
    "## Find historical WW3 prediction for a specific localtion\n",
    "\n",
    "Define the longitude and latitude of Maroubra Beach"
   ]
  },
  {
   "cell_type": "code",
   "execution_count": 24,
   "metadata": {
    "collapsed": true
   },
   "outputs": [],
   "source": [
    "maroubra_lon=[151.25750340000002]\n",
    "maroubra_lat=[-33.947314899999]"
   ]
  },
  {
   "cell_type": "code",
   "execution_count": 25,
   "metadata": {
    "collapsed": true
   },
   "outputs": [],
   "source": [
    "# Function to find index to nearest point\n",
    "def near(array,value):\n",
    "    idx=(abs(array-value)).argmin()\n",
    "    return idx"
   ]
  },
  {
   "cell_type": "markdown",
   "metadata": {},
   "source": [
    "Find the row and column number corresponding to the nearest WW3 model grid point to the requested location"
   ]
  },
  {
   "cell_type": "code",
   "execution_count": 26,
   "metadata": {
    "collapsed": false
   },
   "outputs": [
    {
     "name": "stdout",
     "output_type": "stream",
     "text": [
      "378 110\n"
     ]
    }
   ],
   "source": [
    "lon_model=nc_data.variables['longitude'][:].flatten()\n",
    "lat_model=nc_data.variables['latitude'][:].flatten()\n",
    "ix = near(lon_model, maroubra_lon)\n",
    "iy = near(lat_model, maroubra_lat)\n",
    "print ix, iy"
   ]
  },
  {
   "cell_type": "markdown",
   "metadata": {
    "slideshow": {
     "slide_type": "subslide"
    }
   },
   "source": [
    "### Extract WW3 data for Maroubra beach\n",
    "\n",
    "Extract the significant wave height from the WW3 model for this particular point"
   ]
  },
  {
   "cell_type": "code",
   "execution_count": 29,
   "metadata": {
    "collapsed": false
   },
   "outputs": [],
   "source": [
    "times = nc_data.variables['time']\n",
    "jd_model = netCDF4.num2date(times[:],times.units)\n",
    "hs_model = nc_data.variables['hs'][:,ix,iy]\n",
    "istart_model = netCDF4.date2index(start,times,select='nearest')\n",
    "istop_model = netCDF4.date2index(end,times,select='nearest')"
   ]
  },
  {
   "cell_type": "markdown",
   "metadata": {},
   "source": [
    "We have everything to plot the time serie:"
   ]
  },
  {
   "cell_type": "code",
   "execution_count": 30,
   "metadata": {
    "collapsed": false
   },
   "outputs": [
    {
     "data": {
      "text/plain": [
       "<matplotlib.legend.Legend at 0x7fcd6e889bd0>"
      ]
     },
     "execution_count": 30,
     "metadata": {},
     "output_type": "execute_result"
    },
    {
     "data": {
      "image/png": "[encoded data removed]",
      "text/plain": [
       "<matplotlib.figure.Figure at 0x7fcd6ebee6d0>"
      ]
     },
     "metadata": {},
     "output_type": "display_data"
    }
   ],
   "source": [
    "# make the time series plot, with nicely formatted labels\n",
    "MyDateFormatter = DateFormatter('%Y-%b-%d')\n",
    "fig = plt.figure(figsize=(5,5), dpi=80) \n",
    "ax1 = fig.add_subplot(111)\n",
    "\n",
    "names=[]\n",
    "names.append('Maroubra')\n",
    "\n",
    "#ax1.plot(jd_data[istart:istop],hs_data[istart:istop]) \n",
    "ax1.plot(jd_model[istart_model:istop_model],hs_model[istart_model:istop_model])\n",
    "#ax1.plot(jd_mod2[istart_mod2:istop_mod2],hs_mod2[istart_mod2:istop_mod2])\n",
    "ax1.xaxis.set_major_locator(WeekdayLocator(byweekday=MO))\n",
    "ax1.xaxis.set_major_formatter(MyDateFormatter)\n",
    "ax1.grid(True)\n",
    "setp(gca().get_xticklabels(), rotation=45, horizontalalignment='right')\n",
    "plt.title('WAVEWATCH III model')\n",
    "ax1.set_ylabel('meters')\n",
    "ax1.legend(names,loc='upper right')"
   ]
  },
  {
   "cell_type": "markdown",
   "metadata": {
    "slideshow": {
     "slide_type": "slide"
    }
   },
   "source": [
    "---\n",
    "Jump to notebook3 : <a href='https://ec2-52-11-155-224.us-west-2.compute.amazonaws.com:8888/notebooks/NB3-Forecast.ipynb'> Go to notebook3 </a>\n",
    "\n",
    "---"
   ]
  }
 ],
 "metadata": {
  "kernelspec": {
   "display_name": "Python 2",
   "language": "python",
   "name": "python2"
  },
  "language_info": {
   "codemirror_mode": {
    "name": "ipython",
    "version": 2
   },
   "file_extension": ".py",
   "mimetype": "text/x-python",
   "name": "python",
   "nbconvert_exporter": "python",
   "pygments_lexer": "ipython2",
   "version": "2.7.6"
  }
 },
 "nbformat": 4,
 "nbformat_minor": 0
}
