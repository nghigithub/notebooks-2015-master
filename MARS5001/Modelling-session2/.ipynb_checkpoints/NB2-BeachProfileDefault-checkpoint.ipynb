{
 "cells": [
  {
   "cell_type": "markdown",
   "metadata": {
    "slideshow": {
     "slide_type": "slide"
    }
   },
   "source": [
    "# MARS5001 Coastal Processes and Systems \n",
    "\n",
    "\n",
    "# NB2 - Beach Profile Evolution"
   ]
  },
  {
   "cell_type": "markdown",
   "metadata": {
    "slideshow": {
     "slide_type": "slide"
    }
   },
   "source": [
    "# Overview\n",
    "\n",
    "<img src=http://oss.deltares.nl/documents/401440/401853/XBeach.png>\n",
    "\n",
    "<p>Ok, we've seen how to write a simple model of shallow water equations ( **SWE** ). We will learn how to use an open-source model <a href:'http://oss.deltares.nl/web/xbeach/home'>XBeach</a> developed by <a href:'http://www.deltares.nl/en'>Deltares</a> to perform more complex simulations.</p> \n",
    "<br/>\n",
    "<br/>\n",
    "<small>\n",
    "**Acknowlegement** &mdash; This notebook  is illustrated base on the XBeach *Default* example available on the code <a href:'http://oss.deltares.nl/web/xbeach/documentation'>webpage</a>.\n",
    "</small>"
   ]
  },
  {
   "cell_type": "markdown",
   "metadata": {
    "collapsed": false,
    "slideshow": {
     "slide_type": "slide"
    }
   },
   "source": [
    "# IPython Modules\n",
    "\n",
    "<p>Python has a way to put definitions in a file and use them in a script or in an interactive instance of the interpreter. Such a file is called a **module**; definitions from a module can be imported into other modules or into the main module (the collection of variables that you have access to in a script executed at the top level and in calculator mode).</p>\n",
    "\n",
    "<p>For this notebook I have created a module which contains a list of shell commands that we will use later on...</p>\n",
    "\n",
    "---\n",
    "Here is the file:"
   ]
  },
  {
   "cell_type": "code",
   "execution_count": 15,
   "metadata": {
    "collapsed": false
   },
   "outputs": [],
   "source": [
    "# name: myOSshell.py\n",
    "# type: text/x-python-script\n",
    "# size: 1581 bytes \n",
    " \n",
    "##########################################################\n",
    "# Some usefull shell command for the MARS5001 lectures\n",
    "# Author: Tristan Salles\n",
    "# Date: 13/03/15\n",
    "##########################################################\n",
    "import glob\n",
    "import os\n",
    "from distutils.dir_util import mkpath\n",
    "\n",
    "# Running XBeach model\n",
    "def xbeach_command(DIR):\n",
    "    # Get the current working directory\n",
    "    working_path=os.getcwd()\n",
    "    # Prepare the shell command\n",
    "    run_xbeach='(cd '+working_path+'/'+DIR+'; xbeach)'\n",
    "    # run XBEACH\n",
    "    os.system(run_xbeach)\n",
    "\n",
    "# Upload to dropbox\n",
    "def dropbox_upload(OUTDIR,OUTFILE,UPLOADDIR):\n",
    "    # Get the current working directory\n",
    "    working_path=os.getcwd()\n",
    "    # Prepare the shell command\n",
    "    dropbox_upload='(~/Dropbox-Uploader/dropbox_uploader.sh upload '+working_path+'/'+OUTDIR+'/'+OUTFILE+' '+UPLOADDIR+')'\n",
    "    # upload file to dropbox\n",
    "    os.system(dropbox_upload)\n",
    "\n",
    "# Download from dropbox\n",
    "def dropbox_download(REMOTE,LOCALDIR,LOCALFILE):\n",
    "    # Get the current working directory\n",
    "    working_path=os.getcwd()\n",
    "    # Prepare the shell command\n",
    "    dropbox_download='(~/Dropbox-Uploader/dropbox_uploader.sh download '+REMOTE+' '+working_path+'/'+OUTDIR+'/'+OUTFILE+')'\n",
    "    # download file from dropbox\n",
    "    os.system(dropbox_download)\n",
    "\n",
    "# List specific directory\n",
    "def list_dir(DIR):  \n",
    "    print glob.glob(DIR+'/*')\n",
    "\n",
    "# Delete a file or a folder\n",
    "def delete(NAME):\n",
    "    # Get the current working directory\n",
    "    working_path=os.getcwd()\n",
    "    delete_os='(rm -r '+working_path+'/'+NAME+')'\n",
    "    # run RM\n",
    "    os.system(delete_os)\n",
    "\n",
    "# Copy a file or a folder\n",
    "def copy(NAME,PLACE):\n",
    "    # Get the current working directory\n",
    "    working_path=os.getcwd()\n",
    "    copy_os='(cp -r '+working_path+'/'+NAME+' '+PLACE+')'\n",
    "    # run CP\n",
    "    os.system(copy_os)\n",
    "\n",
    "# Create a folder\n",
    "def mkdir(DIR):\n",
    "    mkpath('./'+DIR)"
   ]
  },
  {
   "cell_type": "markdown",
   "metadata": {
    "slideshow": {
     "slide_type": "subslide"
    }
   },
   "source": [
    "## Using the created module\n",
    "\n",
    "<p>Once compiled with python:</p>\n",
    "<code>python myOSshell.py</code>\n",
    "<br/>\n",
    "<p>we can import it as other Python modules</p>\n",
    "<code>import myOSshell</code>\n",
    "<br/>\n",
    "<p>And then use the defined commands.</p>"
   ]
  },
  {
   "cell_type": "code",
   "execution_count": 1,
   "metadata": {
    "collapsed": false
   },
   "outputs": [
    {
     "name": "stdout",
     "output_type": "stream",
     "text": [
      "['./myOSshell.pyc', './NB1-SWE1D.ipynb', './NB2-BeachProfileDefault.ipynb', './XBeach1', './tristan2', './myOSshell.py', './NB3-myBeachProfile.ipynb', './Lecture-overview.ipynb', './tristan1']\n",
      "['./XBeach1/y.grd', './XBeach1/params.txt', './XBeach1/x.grd', './XBeach1/bed.dep', './XBeach1/jonswap.txt']\n",
      "['./tristan1/y.grd', './tristan1/params.txt', './tristan1/x.grd', './tristan1/bed.dep', './tristan1/jonswap.txt']\n"
     ]
    }
   ],
   "source": [
    "import myOSshell as myos\n",
    "\n",
    "# Delete a directory\n",
    "myos.delete('tristan1')\n",
    "# Create a directory\n",
    "myos.mkdir('./tristan1')\n",
    "# List files/directories from my location\n",
    "myos.list_dir('.')\n",
    "# List files/directories from another location\n",
    "myos.list_dir('./XBeach1')\n",
    "# Copy from one directory to another one\n",
    "myos.copy('./XBeach1/*','./tristan1/')\n",
    "# List created directory files\n",
    "myos.list_dir('./tristan1')"
   ]
  },
  {
   "cell_type": "code",
   "execution_count": 3,
   "metadata": {
    "collapsed": false
   },
   "outputs": [
    {
     "name": "stdout",
     "output_type": "stream",
     "text": [
      "Populating the interactive namespace from numpy and matplotlib\n"
     ]
    }
   ],
   "source": [
    "%pylab inline\n",
    "%matplotlib inline\n",
    "import os\n",
    "import glob\n",
    "import netCDF4\n",
    "import subprocess\n",
    "import numpy as np\n",
    "import matplotlib.tri as Tri\n",
    "import myOSshell  as myos\n",
    "import matplotlib.pyplot as plt\n",
    "from matplotlib import animation\n",
    "from distutils.dir_util import mkpath\n",
    "from JSAnimation import IPython_display"
   ]
  },
  {
   "cell_type": "markdown",
   "metadata": {
    "slideshow": {
     "slide_type": "slide"
    }
   },
   "source": [
    "# XBeach\n",
    "\n",
    "XBeach is a two-dimensional model for:\n",
    "\n",
    "+ wave propagation, \n",
    "+ long waves and mean flow, \n",
    "+ sediment transport and morphological changes of the nearshore area, beaches, dunes and backbarrier during storms. "
   ]
  },
  {
   "cell_type": "code",
   "execution_count": 1,
   "metadata": {
    "collapsed": false
   },
   "outputs": [
    {
     "data": {
      "text/html": [
       "<iframe src=https://publicwiki.deltares.nl/download/thumbnails/42401924/vaklodingen_haringvlietmonding%5B1%5D.jpg width=300 height=220 name=\"left\"></iframe><iframe src=https://publicwiki.deltares.nl/download/thumbnails/42401924/ahn_vaklodingen.jpg width=300 height=220 name=\"center\"></iframe><iframe src=https://publicwiki.deltares.nl/download/thumbnails/42401924/vaklodingen2.jpg width=300 height=220 name=\"right\"></iframe>"
      ],
      "text/plain": [
       "<IPython.core.display.HTML object>"
      ]
     },
     "execution_count": 1,
     "metadata": {},
     "output_type": "execute_result"
    }
   ],
   "source": [
    "from IPython.core.display import HTML\n",
    "HTML('<iframe src=https://publicwiki.deltares.nl/download/thumbnails/42401924/vaklodingen_haringvlietmonding%5B1%5D.jpg width=300 height=220 name=\"left\"></iframe>'\n",
    "    '<iframe src=https://publicwiki.deltares.nl/download/thumbnails/42401924/ahn_vaklodingen.jpg width=300 height=220 name=\"center\"></iframe>'\n",
    "    '<iframe src=https://publicwiki.deltares.nl/download/thumbnails/42401924/vaklodingen2.jpg width=300 height=220 name=\"right\"></iframe>')"
   ]
  },
  {
   "cell_type": "markdown",
   "metadata": {},
   "source": [
    "It is a public-domain model that has been developed with major funding from: \n",
    "\n",
    "+ the US Army Corps of Engineers, \n",
    "+ Rijkswaterstaat and the EU, \n",
    "+ supported by a consortium of UNESCO-IHE, Deltares, \n",
    "+ Delft University of Technology and \n",
    "+ the University of Miami. "
   ]
  },
  {
   "cell_type": "markdown",
   "metadata": {
    "collapsed": false,
    "slideshow": {
     "slide_type": "slide"
    }
   },
   "source": [
    "# XBeach input files\n",
    "\n",
    "<img src='http://www.dsd-int.nl/wp-content/uploads/2014/05/copy-banner-DSD-2014-international-v2-e1399537594549.jpg', width=1000>\n",
    "\n",
    "XBeach is a numerical model of nearshore processes intended as a tool to compute the natural coastal response during time-varying storm and hurricane conditions, including dune erosion, overwash and breaching."
   ]
  },
  {
   "cell_type": "code",
   "execution_count": 2,
   "metadata": {
    "collapsed": false
   },
   "outputs": [
    {
     "data": {
      "text/html": [
       "\n",
       "        <iframe\n",
       "            width=\"400\"\n",
       "            height=\"300\"\n",
       "            src=\"https://www.youtube.com/embed/UgK2OfaNqfM\"\n",
       "            frameborder=\"0\"\n",
       "            allowfullscreen\n",
       "        ></iframe>\n",
       "        "
      ],
      "text/plain": [
       "<IPython.lib.display.YouTubeVideo at 0x7f1675171ad0>"
      ]
     },
     "execution_count": 2,
     "metadata": {},
     "output_type": "execute_result"
    }
   ],
   "source": [
    "from IPython.display import YouTubeVideo\n",
    "# XBeach Hydrostatic / Surf beat vs XBeach Non-hydrostatic.\n",
    "YouTubeVideo('UgK2OfaNqfM')"
   ]
  },
  {
   "cell_type": "markdown",
   "metadata": {
    "slideshow": {
     "slide_type": "slide"
    }
   },
   "source": [
    "# Description of the main inputs\n",
    "\n",
    "For this first example we will use the *Default* input file that we have just copied in the folder you've just created. "
   ]
  },
  {
   "cell_type": "code",
   "execution_count": 29,
   "metadata": {
    "collapsed": false
   },
   "outputs": [
    {
     "name": "stdout",
     "output_type": "stream",
     "text": [
      "Lecture-overview.ipynb  myOSshell.pyc    NB2-BeachProfileDefault.ipynb  \u001b[0m\u001b[01;34mtristan1\u001b[0m/  \u001b[01;34mXBeach1\u001b[0m/\r\n",
      "myOSshell.py            NB1-SWE1D.ipynb  NB3-myBeachProfile.ipynb       \u001b[01;34mtristan2\u001b[0m/\r\n"
     ]
    }
   ],
   "source": [
    "%ls"
   ]
  },
  {
   "cell_type": "markdown",
   "metadata": {},
   "source": [
    "Let us have a look at what is inside this folder:"
   ]
  },
  {
   "cell_type": "code",
   "execution_count": 31,
   "metadata": {
    "collapsed": false
   },
   "outputs": [
    {
     "name": "stdout",
     "output_type": "stream",
     "text": [
      "['XBeach1/y.grd', 'XBeach1/params.txt', 'XBeach1/x.grd', 'XBeach1/bed.dep', 'XBeach1/jonswap.txt']\n"
     ]
    }
   ],
   "source": [
    "myos.list_dir('tristan1')"
   ]
  },
  {
   "cell_type": "markdown",
   "metadata": {
    "slideshow": {
     "slide_type": "slide"
    }
   },
   "source": [
    "The input files to run the model are:\n",
    "\n",
    "+ x.grd: space discretisation along x-axis\n",
    "+ y.grd: space discretisation along y-axis\n",
    "+ bed.dep: seabed elevation\n",
    "+ jonswap: spectral wave parameters\n",
    "+ params.txt: parameters file for xbeach\n",
    "\n",
    "The *params.txt* file is required to run the XBeach model and the program is going to look specifically for this name in your directory so you cannot change its name! Let us have a look at how this file is formated:"
   ]
  },
  {
   "cell_type": "code",
   "execution_count": 8,
   "metadata": {
    "collapsed": false
   },
   "outputs": [
    {
     "ename": "SyntaxError",
     "evalue": "invalid syntax (<ipython-input-8-9c0d0a0b0738>, line 1)",
     "output_type": "error",
     "traceback": [
      "\u001b[1;36m  File \u001b[1;32m\"<ipython-input-8-9c0d0a0b0738>\"\u001b[1;36m, line \u001b[1;32m1\u001b[0m\n\u001b[1;33m    name: params.txt\u001b[0m\n\u001b[1;37m        ^\u001b[0m\n\u001b[1;31mSyntaxError\u001b[0m\u001b[1;31m:\u001b[0m invalid syntax\n"
     ]
    }
   ],
   "source": [
    "%%%%%%%%%%%%%%%%%%%%%%%%%%%%%%%%%%%%%%%%%%%%%%%%%%%%%%%%%%%%%%%%%%%%%%%%%%%%%%%%\n",
    "%%% XBeach parameter settings input file                       %%%\n",
    "%%%                                                                                                          %%%\n",
    "%%% date:     9-Sep-2011 9:45:52                                           %%%\n",
    "%%% function: xb_write_params                                              %%%\n",
    "%%%%%%%%%%%%%%%%%%%%%%%%%%%%%%%%%%%%%%%%%%%%%%%%%%%%%%%%%%%%%%%%%%%%%%%%%%%%%%%%\n",
    "\n",
    "%%% Grid parameters %%%%%%%%%%%%%%%%%%%%%%%%%%%%%%%%%%%%%%%%%%%%%%%%%%%%%%%%%%%%\n",
    "\n",
    "depfile   = bed.dep\n",
    "posdwn    = 0\n",
    "nx        = 230\n",
    "ny        = 0\n",
    "alfa      = 0\n",
    "vardx     = 1\n",
    "xfile     = x.grd\n",
    "yfile     = y.grd\n",
    "xori      = 0\n",
    "yori      = 0\n",
    "thetamin  = 225\n",
    "thetamax  = 315\n",
    "dtheta    = 90\n",
    "thetanaut = 1\n",
    "\n",
    "%%% Initial conditions %%%%%%%%%%%%%%%%%%%%%%%%%%%%%%%%%%%%%%%%%%%%%%%%%%%%%%%%%\n",
    "\n",
    "zs0       = 5\n",
    "\n",
    "%%% Model time %%%%%%%%%%%%%%%%%%%%%%%%%%%%%%%%%%%%%%%%%%%%%%%%%%%%%%%%%%%%%%%%%\n",
    "\n",
    "tstop     = 2250\n",
    "\n",
    "%%% Morphology parameters %%%%%%%%%%%%%%%%%%%%%%%%%%%%%%%%%%%%%%%%%%%%%%%%%%%%%%\n",
    "\n",
    "morstart  = 250\n",
    "\n",
    "%%% Wave boundary condition parameters %%%%%%%%%%%%%%%%%%%%%%%%%%%%%%%%%%%%%%%%%\n",
    "\n",
    "instat    = jons\n",
    "\n",
    "%%% Wave-spectrum boundary condition parameters %%%%%%%%%%%%%%%%%%%%%%%%%%%%%%%%\n",
    "\n",
    "bcfile    = jonswap.txt\n",
    "rt        = 1800\n",
    "dtbc      = 1\n",
    "\n",
    "%%% Output variables %%%%%%%%%%%%%%%%%%%%%%%%%%%%%%%%%%%%%%%%%%%%%%%%%%%%%%%%%%%\n",
    "outputformat = netcdf\n",
    "tstart    = 250"
   ]
  },
  {
   "cell_type": "markdown",
   "metadata": {
    "slideshow": {
     "slide_type": "subslide"
    }
   },
   "source": [
    "**A good starting point for Ocean Wave Theory is the online chapter from <a href:'http://oceanworld.tamu.edu/resources/ocng_textbook/chapter16/chapter16_01.htm'> Texas A&M University</a>**.\n",
    "\n",
    "** You can find the information for each of these parameters in the online XBeach reference guide:**"
   ]
  },
  {
   "cell_type": "code",
   "execution_count": 7,
   "metadata": {
    "collapsed": false
   },
   "outputs": [
    {
     "ename": "IndentationError",
     "evalue": "unexpected indent (<ipython-input-7-95100a9cd9f6>, line 2)",
     "output_type": "error",
     "traceback": [
      "\u001b[1;36m  File \u001b[1;32m\"<ipython-input-7-95100a9cd9f6>\"\u001b[1;36m, line \u001b[1;32m2\u001b[0m\n\u001b[1;33m    HTML('<iframe src=http://oss.deltares.nl/web/xbeach/reference width=600 height=500></iframe>')\u001b[0m\n\u001b[1;37m    ^\u001b[0m\n\u001b[1;31mIndentationError\u001b[0m\u001b[1;31m:\u001b[0m unexpected indent\n"
     ]
    }
   ],
   "source": [
    "from IPython.core.display import HTML\n",
    " HTML('<iframe src=http://oss.deltares.nl/web/xbeach/reference width=600 height=500></iframe>')"
   ]
  },
  {
   "cell_type": "markdown",
   "metadata": {
    "slideshow": {
     "slide_type": "subslide"
    }
   },
   "source": [
    "## Wave types\n",
    "\n",
    "The size of the waves resulting from the energy transfer from the wind to the water is governed by the velocity of the wind (W), the fetch (F) or distance over which the wind blows, and the duration (D) of time that the wind blows, summarized as: \n",
    "** $$H, T = function (W,F,D)$$**\n",
    "<br/>\n",
    "Large waves (long period) can be generated only where the fetch is large. Waves continue to grow after they reach a velocity of one-third wind speed, but at a decreasing rate. Energy losses from friction, transfer of energy into currents, and the development of white caps means that waves will not grow until wave speed reaches wind speed.\n",
    "\n",
    "<img src=http://media-2.web.britannica.com/eb-media/69/3169-004-5B9DCB1D.jpg width=500>\n",
    "\n",
    "\n",
    "Waves are described by their:\n",
    "\n",
    "+ wave length (L) which is the horizontal distance between two crests\n",
    "+ wave height (H), the elevation of the crest above the trough, and\n",
    "+ wave period (T) which is the interval of time for two wave crests to pass the same position in space.\n",
    "\n",
    "The rate of propagation of the wave form, or phase speed (C) is: \n",
    "$$Co = L/T$$ \n",
    "\n",
    "The energy of a group of waves travels with the wave group velocity, which for deep water waves is equal to one-half the wave phase velocity."
   ]
  },
  {
   "cell_type": "markdown",
   "metadata": {
    "slideshow": {
     "slide_type": "skip"
    }
   },
   "source": [
    "## Wave generation\n",
    "\n",
    "In the wave generating area, wind waves or sea consist of peaked waves of many different heights, lengths and periods:\n",
    "<img src=http://geology.uprm.edu/Morelock/2_image/ocnspr.gif width=400>"
   ]
  },
  {
   "cell_type": "markdown",
   "metadata": {
    "slideshow": {
     "slide_type": "subslide"
    }
   },
   "source": [
    "## Spectral wave density\n",
    "\n",
    "The waves are generally described in terms of wave spectra measured on a wave record:\n",
    "<img src='http://geology.uprm.edu/Morelock/2_image/wavanal.gif' width=400>\n",
    "\n",
    "To define a wave spectra you have to look at individual and group of waves characterics:\n",
    "\n",
    "+ Significant wave height $Hs$ defined as the average height of the one-third part of the measured waves ($N$) having the largest wave heights: \n",
    "$$Hs=\\frac{3}{N}\\sum_{m=1}^{N/3}H_m$$\n",
    "$H_m$ is the individual wave height\n",
    "\n",
    "+ Root-mean-square wave height $Hrms$:\n",
    "$$Hrms=\\sqrt{\\frac{1}{N}\\sum_{m=1}{N}H_m^2} $$"
   ]
  },
  {
   "cell_type": "markdown",
   "metadata": {
    "slideshow": {
     "slide_type": "subslide"
    }
   },
   "source": [
    "## Energy redistribution and dissipation captured in the spectral evolution of shoaling waves\n",
    "\n",
    "As the wave moves into shallower water, shoaling affects the wave form by slowing its base while having less effect on the crest. At some point, the crest of the wave is moving too fast for the bottom of the wave form to keep up. The wave then becomes unstable and breaks. \n",
    "\n",
    "<img src='http://www.cityoforangebeach.com/pages/know_your_beach/ripcurrents/near_shore_formation/media/graphics/shoaling.jpg' width=300>\n",
    "\n",
    "Below, the spatial evolution of variance density spectrum is shown with possible but deterministic wave shapes for the unidirectional shoaling over the mild beach slope, indicated by the black line in the plot. Some of the observations are;\n",
    "\n",
    "1. the wave shapes are no longer sinusoidal as they were in deep water, but skewed and asymmetric;\n",
    "\n",
    "2. the corresponding frequency spectra is decreasing at the peak frequency band, while having increased activities at harmonic peaks and thickening of spectral tails.\n",
    "\n",
    "<img src='http://www.geosci.sfsu.edu/StudentResearch/SangPak/shoalingSpecWave.png' width=400>"
   ]
  },
  {
   "cell_type": "markdown",
   "metadata": {
    "slideshow": {
     "slide_type": "subslide"
    }
   },
   "source": [
    "## XBeach JONSWAP spectrum parameters\n",
    "\n",
    "<img src='http://oceanworld.tamu.edu/resources/ocng_textbook/chapter16/Images/Fig16-9.jpg' width=400>\n",
    "\n",
    "In XBeach the JONSWAP spectrum is defined by:\n",
    "\n",
    "\n",
    "| Keyword  |  Type | Description  | Default  | Minimum  |  Maximum |\n",
    "|:-:|:-:|:-:|:-:|:-:|:-:|\n",
    "|  Hm0 |  real |  Hm0 of the wave spectrum, significant wave height [m] | 0.0   | 0.0   | 5.0  |\n",
    "| fp  | real  |  Peak frequency of the wave spectrum [s-1]  | 0.08  | 0.0625  | 0.4  |\n",
    "| gammajsp | real | Peak enhancement factor in the JONSWAP expression [-]  |  3.3 | 1.0  | 5.0  |\n",
    "| s  | real  | Directional spreading coefficient, cosine law [-]  | 10.  | 1.  | 1000.  |\n",
    "| mainang  | real  | Main wave angle (in nautical terms) [°]  |  270 | 180  | 360  |\n",
    "| fnyq  | real  |  Highest frequency used to create JONSWAP spectrum [s-1] |  0.3 | 0.2  | 1.0  |\n",
    "|  dfj |  real |  Step size frequency used to create JONSWAP spectrum [s-1] | fnyq/200  |  fnyq/1000 | fnyq/20  |\n",
    "\n",
    "All variables are optional. If no value is given, the default value is used. It is advised not to specify dfj and allow XBeach to calculate the default value.\n"
   ]
  },
  {
   "cell_type": "markdown",
   "metadata": {
    "slideshow": {
     "slide_type": "slide"
    }
   },
   "source": [
    "# Running XBeach\n",
    "\n"
   ]
  },
  {
   "cell_type": "code",
   "execution_count": 10,
   "metadata": {
    "collapsed": false
   },
   "outputs": [],
   "source": [
    "myos.xbeach_command('tristan1')"
   ]
  },
  {
   "cell_type": "code",
   "execution_count": 11,
   "metadata": {
    "collapsed": false
   },
   "outputs": [
    {
     "name": "stdout",
     "output_type": "stream",
     "text": [
      "['tristan1/q_reuse.bcf', 'tristan1/XBlog.txt', 'tristan1/y.grd', 'tristan1/params.txt', 'tristan1/x.grd', 'tristan1/bed.dep', 'tristan1/ebcflist.bcf', 'tristan1/jonswap.txt', 'tristan1/qbcflist.bcf', 'tristan1/XBwarning.txt', 'tristan1/xboutput.nc', 'tristan1/E_reuse.bcf']\n"
     ]
    }
   ],
   "source": [
    "myos.list_dir('tristan1')"
   ]
  },
  {
   "cell_type": "markdown",
   "metadata": {
    "slideshow": {
     "slide_type": "skip"
    }
   },
   "source": [
    "Upload output file to dropbox"
   ]
  },
  {
   "cell_type": "code",
   "execution_count": 84,
   "metadata": {
    "collapsed": true,
    "slideshow": {
     "slide_type": "skip"
    }
   },
   "outputs": [],
   "source": [
    "#myos.dropbox_upload('tristan1','xboutput.nc','.')"
   ]
  },
  {
   "cell_type": "markdown",
   "metadata": {
    "slideshow": {
     "slide_type": "slide"
    }
   },
   "source": [
    "# Query netCDF outputs\n",
    "\n",
    "**XBeach** has produced a netCDF file and we've learned during the first lecture how to **load, query and visualise the data** from this type of format! \n",
    "<br/>\n",
    "<br/>\n",
    "Load the netCDF dataset:"
   ]
  },
  {
   "cell_type": "code",
   "execution_count": 4,
   "metadata": {
    "collapsed": false
   },
   "outputs": [],
   "source": [
    "nc_data=netCDF4.Dataset('./tristan1/xboutput.nc')"
   ]
  },
  {
   "cell_type": "code",
   "execution_count": 13,
   "metadata": {
    "collapsed": false
   },
   "outputs": [
    {
     "data": {
      "text/plain": [
       "[u'parameter',\n",
       " u'globalx',\n",
       " u'globaly',\n",
       " u'globaltime',\n",
       " u'H',\n",
       " u'zs',\n",
       " u'zs0',\n",
       " u'zb',\n",
       " u'hh',\n",
       " u'u',\n",
       " u'v',\n",
       " u'ue',\n",
       " u've',\n",
       " u'urms',\n",
       " u'Fx',\n",
       " u'Fy',\n",
       " u'ccg',\n",
       " u'ceqsg',\n",
       " u'ceqbg',\n",
       " u'Susg',\n",
       " u'Svsg',\n",
       " u'E',\n",
       " u'R',\n",
       " u'D',\n",
       " u'DR']"
      ]
     },
     "execution_count": 13,
     "metadata": {},
     "output_type": "execute_result"
    }
   ],
   "source": [
    "nc_data.variables.keys()"
   ]
  },
  {
   "cell_type": "code",
   "execution_count": 14,
   "metadata": {
    "collapsed": false,
    "slideshow": {
     "slide_type": "subslide"
    }
   },
   "outputs": [
    {
     "name": "stdout",
     "output_type": "stream",
     "text": [
      "<type 'netCDF4.Variable'>\n",
      "float64 zb(globaltime, globaly, globalx)\n",
      "    coordinates: globalx globaly\n",
      "    units: m\n",
      "    standard_name: altitude\n",
      "    long_name: bed level\n",
      "unlimited dimensions: globaltime\n",
      "current shape = (2001, 1, 231)\n",
      "filling off\n",
      "\n"
     ]
    }
   ],
   "source": [
    "print nc_data.variables['zb']"
   ]
  },
  {
   "cell_type": "code",
   "execution_count": 5,
   "metadata": {
    "collapsed": false,
    "slideshow": {
     "slide_type": "-"
    }
   },
   "outputs": [
    {
     "name": "stdout",
     "output_type": "stream",
     "text": [
      "(2001, 231)\n"
     ]
    }
   ],
   "source": [
    "times = nc_data.variables['globaltime'][:]\n",
    "names=[]\n",
    "xprofile = nc_data.variables['globalx'][0,:]\n",
    "# bed level\n",
    "bed_elev = nc_data.variables['zb'][:,0,:]\n",
    "names.append('zb')\n",
    "# wave height\n",
    "wave_height = nc_data.variables['H'][:,0,:]\n",
    "names.append('H')\n",
    "# water level\n",
    "water_lvl = nc_data.variables['zs'][:,0,:]\n",
    "names.append('zs')\n",
    "print bed_elev.shape"
   ]
  },
  {
   "cell_type": "markdown",
   "metadata": {
    "slideshow": {
     "slide_type": "slide"
    }
   },
   "source": [
    "# Plot simulation time steps"
   ]
  },
  {
   "cell_type": "code",
   "execution_count": 16,
   "metadata": {
    "collapsed": true
   },
   "outputs": [],
   "source": [
    "def xbeach_frame(FID,subPID):\n",
    "    ax1 = fig.add_subplot(subPID)\n",
    "    axes = plt.gca()\n",
    "    axes.set_xlim([0,3100])\n",
    "    axes.set_ylim([-20,20])\n",
    "    ax1.plot(xprofile[:],bed_elev[FID,:])\n",
    "    ax1.plot(xprofile[:],wave_height[FID,:]) \n",
    "    ax1.plot(xprofile[:],water_lvl[FID,:]) \n",
    "    ax1.grid(True)\n",
    "    tlt='XBeach model time:'+str(times[FID])+'s'\n",
    "    plt.title(tlt, fontsize=10)\n",
    "    ax1.set_ylabel('meters', fontsize=8)\n",
    "    plt.setp(ax1.get_xticklabels(), fontsize=8)\n",
    "    plt.setp(ax1.get_yticklabels(), fontsize=8)\n",
    "    ax1.legend(names,loc='lower right', fontsize=9)"
   ]
  },
  {
   "cell_type": "code",
   "execution_count": 17,
   "metadata": {
    "collapsed": false
   },
   "outputs": [
    {
     "data": {
      "image/png": "[encoded data removed]",
      "text/plain": [
       "<matplotlib.figure.Figure at 0x7f6761d35610>"
      ]
     },
     "metadata": {},
     "output_type": "display_data"
    }
   ],
   "source": [
    "fig = plt.figure(figsize=(10,8), dpi=80) \n",
    "xbeach_frame(0,221)\n",
    "xbeach_frame(600,222)\n",
    "xbeach_frame(1200,223)\n",
    "xbeach_frame(2000,224)"
   ]
  },
  {
   "cell_type": "markdown",
   "metadata": {
    "slideshow": {
     "slide_type": "slide"
    }
   },
   "source": [
    "# Animation\n",
    "\n",
    "Using IPython modules/libraries let's visualise the evolution through time:"
   ]
  },
  {
   "cell_type": "code",
   "execution_count": 6,
   "metadata": {
    "collapsed": false
   },
   "outputs": [
    {
     "ename": "NameError",
     "evalue": "name 'plt' is not defined",
     "output_type": "error",
     "traceback": [
      "\u001b[1;31m---------------------------------------------------------------------------\u001b[0m",
      "\u001b[1;31mNameError\u001b[0m                                 Traceback (most recent call last)",
      "\u001b[1;32m<ipython-input-6-a6003832ec80>\u001b[0m in \u001b[0;36m<module>\u001b[1;34m()\u001b[0m\n\u001b[1;32m----> 1\u001b[1;33m \u001b[0mfig\u001b[0m \u001b[1;33m=\u001b[0m \u001b[0mplt\u001b[0m\u001b[1;33m.\u001b[0m\u001b[0mfigure\u001b[0m\u001b[1;33m(\u001b[0m\u001b[0mfigsize\u001b[0m\u001b[1;33m=\u001b[0m\u001b[1;33m(\u001b[0m\u001b[1;36m6\u001b[0m\u001b[1;33m,\u001b[0m\u001b[1;36m4\u001b[0m\u001b[1;33m)\u001b[0m\u001b[1;33m)\u001b[0m\u001b[1;33m\u001b[0m\u001b[0m\n\u001b[0m\u001b[0;32m      2\u001b[0m \u001b[0max\u001b[0m \u001b[1;33m=\u001b[0m \u001b[0mplt\u001b[0m\u001b[1;33m.\u001b[0m\u001b[0maxes\u001b[0m\u001b[1;33m(\u001b[0m\u001b[0mxlim\u001b[0m\u001b[1;33m=\u001b[0m\u001b[1;33m(\u001b[0m\u001b[1;36m0\u001b[0m\u001b[1;33m,\u001b[0m \u001b[1;36m3100\u001b[0m\u001b[1;33m)\u001b[0m\u001b[1;33m,\u001b[0m \u001b[0mylim\u001b[0m\u001b[1;33m=\u001b[0m\u001b[1;33m(\u001b[0m\u001b[1;33m-\u001b[0m\u001b[1;36m20\u001b[0m\u001b[1;33m,\u001b[0m \u001b[1;36m20\u001b[0m\u001b[1;33m)\u001b[0m\u001b[1;33m)\u001b[0m\u001b[1;33m\u001b[0m\u001b[0m\n\u001b[0;32m      3\u001b[0m \u001b[0mplt\u001b[0m\u001b[1;33m.\u001b[0m\u001b[0mtitle\u001b[0m\u001b[1;33m(\u001b[0m\u001b[1;34m'XBeach animation'\u001b[0m\u001b[1;33m,\u001b[0m \u001b[0mfontsize\u001b[0m\u001b[1;33m=\u001b[0m\u001b[1;36m10\u001b[0m\u001b[1;33m)\u001b[0m\u001b[1;33m\u001b[0m\u001b[0m\n\u001b[0;32m      4\u001b[0m \u001b[0max\u001b[0m\u001b[1;33m.\u001b[0m\u001b[0mset_ylabel\u001b[0m\u001b[1;33m(\u001b[0m\u001b[1;34m'meters'\u001b[0m\u001b[1;33m,\u001b[0m \u001b[0mfontsize\u001b[0m\u001b[1;33m=\u001b[0m\u001b[1;36m8\u001b[0m\u001b[1;33m)\u001b[0m\u001b[1;33m\u001b[0m\u001b[0m\n\u001b[0;32m      5\u001b[0m \u001b[0mplt\u001b[0m\u001b[1;33m.\u001b[0m\u001b[0msetp\u001b[0m\u001b[1;33m(\u001b[0m\u001b[0max\u001b[0m\u001b[1;33m.\u001b[0m\u001b[0mget_xticklabels\u001b[0m\u001b[1;33m(\u001b[0m\u001b[1;33m)\u001b[0m\u001b[1;33m,\u001b[0m \u001b[0mfontsize\u001b[0m\u001b[1;33m=\u001b[0m\u001b[1;36m8\u001b[0m\u001b[1;33m)\u001b[0m\u001b[1;33m\u001b[0m\u001b[0m\n",
      "\u001b[1;31mNameError\u001b[0m: name 'plt' is not defined"
     ]
    }
   ],
   "source": [
    "fig = plt.figure(figsize=(6,4))\n",
    "ax = plt.axes(xlim=(0, 3100), ylim=(-20, 20))\n",
    "plt.title('XBeach animation', fontsize=10)\n",
    "ax.set_ylabel('meters', fontsize=8)\n",
    "plt.setp(ax.get_xticklabels(), fontsize=8)\n",
    "plt.setp(ax.get_yticklabels(), fontsize=8)\n",
    "    \n",
    "\n",
    "ax.plot(xprofile[:],bed_elev[0,:])\n",
    "\n",
    "line1, = ax.plot([], [], lw=2)\n",
    "line2, = ax.plot([], [], lw=2)\n",
    "#line3, = ax.plot([], [], lw=2)\n",
    "\n",
    "# initialization function: plot the background of each frame\n",
    "def init():\n",
    "    line1.set_data([], [])\n",
    "    line2.set_data([], [])\n",
    "    #line3.set_data([], [])\n",
    "    return line1,line2, #line3,\n",
    "\n",
    "# animation function.  This is called sequentially\n",
    "def animate(i):\n",
    "    x = xprofile[:]\n",
    "    f1 = wave_height[i,:]\n",
    "    f2 = water_lvl[i,:]\n",
    "    #f3 = bed_elev[i,:]\n",
    "    line1.set_data(x, f1)\n",
    "    line2.set_data(x, f2)\n",
    "    #line3.set_data(x, f3)\n",
    "    ax.legend(names,loc='lower right', fontsize=9)\n",
    "    return line1,line2 #,line3\n",
    "\n",
    "# call the animator.  blit=True means only re-draw the parts that have changed.\n",
    "animation.FuncAnimation(fig, animate, init_func=init, frames=200, interval=30, blit=True)"
   ]
  }
 ],
 "metadata": {
  "kernelspec": {
   "display_name": "Python 2",
   "language": "python",
   "name": "python2"
  },
  "language_info": {
   "codemirror_mode": {
    "name": "ipython",
    "version": 2
   },
   "file_extension": ".py",
   "mimetype": "text/x-python",
   "name": "python",
   "nbconvert_exporter": "python",
   "pygments_lexer": "ipython2",
   "version": "2.7.6"
  }
 },
 "nbformat": 4,
 "nbformat_minor": 0
}
