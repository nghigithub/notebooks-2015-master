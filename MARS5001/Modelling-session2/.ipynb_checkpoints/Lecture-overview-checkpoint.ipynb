{
 "cells": [
  {
   "cell_type": "markdown",
   "metadata": {},
   "source": [
    "# MARS5001\n",
    "\n",
    "## Modelling 2 - Wave propagation on 1D beach profile \n",
    "\n",
    "\n",
    "<br/>\n",
    "Tristan Salles - The University of Sydney - School of Geosciences\n",
    "\n",
    "---\n",
    "\n",
    "<img src='http://whyfiles.org/wp-content/uploads/2013/06/nasa_ocean.jpg', width=1000>"
   ]
  },
  {
   "cell_type": "markdown",
   "metadata": {
    "slideshow": {
     "slide_type": "slide"
    }
   },
   "source": [
    "## Overview\n",
    "\n",
    "<p>In the analysis of coastal hydrodynamic processes, modelling (physical, numerical and composite) is often employed to simulate the main phenomena in these regions.</p>\n",
    "\n",
    "<p>Hydrodynamic modelling forms the basis for many modelling studies, whether sediment transport, morphology, waves, water quality and/or ecological changes are being investigated. Research is being carried out to improve the representation of tides, waves, currents, and surge in coastal waters.</p>"
   ]
  },
  {
   "cell_type": "markdown",
   "metadata": {
    "slideshow": {
     "slide_type": "subslide"
    }
   },
   "source": [
    "\n",
    "## Objectives & Learning Outcomes (OLOs)\n",
    "\n",
    "### OLO-1\n",
    "\n",
    "<p>Using the shallow water equations in 1D create a simple model of dam break. Understand the main equations: conservation of mass and momentum, the concept of time and space discretisations, boundary problems and initial conditions,</p>\n",
    "\n",
    "### OLO-2\n",
    "<p>Using XBeach, investigate the impact of different spectral densities on wave propagation for a given 1D profile. Get familiarise with input and output formats of XBeach and being able to produce simple analysis of model outputs,</p>\n",
    "\n",
    "### OLO-3\n",
    "<p>Being able to set-up your own XBeach model using the beach profile you've made during your field trip and for a serie of initial conditions being capable of extracting information regarding wave velocity, height and energy.</p>\n",
    "\n",
    "When waves enter shallow water they slow down. Under stationary conditions, the wave length is reduced. The energy flux must remain constant and the reduction in group (transport) speed is compensated by an increase in wave height (and thus wave energy density)."
   ]
  },
  {
   "cell_type": "code",
   "execution_count": 1,
   "metadata": {
    "collapsed": false
   },
   "outputs": [
    {
     "data": {
      "text/html": [
       "<iframe src=http://en.wikipedia.org/wiki/File:Propagation_du_tsunami_en_profondeur_variable.gif width=600 height=350></iframe>"
      ],
      "text/plain": [
       "<IPython.core.display.HTML object>"
      ]
     },
     "execution_count": 1,
     "metadata": {},
     "output_type": "execute_result"
    }
   ],
   "source": [
    "from IPython.core.display import HTML\n",
    "HTML('<iframe src=http://en.wikipedia.org/wiki/File:Propagation_du_tsunami_en_profondeur_variable.gif width=600 height=350></iframe>')"
   ]
  },
  {
   "cell_type": "markdown",
   "metadata": {
    "slideshow": {
     "slide_type": "subslide"
    }
   },
   "source": [
    "## Lecture structure\n",
    "\n",
    "<small>The lecture is organised around 3 <code>IPython Notebooks</code>. </small>\n",
    "\n",
    "---\n",
    "\n",
    "#### Notebook 1: NB1-SWE1D &mdash; Shallow Water Equation 1D\n",
    "\n",
    "<small><a href='https://ec2-52-11-155-224.us-west-2.compute.amazonaws.com:8888/notebooks/NB1-SWE1D.ipynb'> Go to notebook1 </a></small>\n",
    "\n",
    "\n",
    "---\n",
    "\n",
    "#### Notebook 2: NB2-BeachProfileDefault &mdash; Using XBeach to analyse wave propagation\n",
    "\n",
    "<small><a href='https://ec2-52-11-155-224.us-west-2.compute.amazonaws.com:8888/notebooks/NB2-BeachProfileDefault.ipynb'> Go to notebook2 </a></small>\n",
    "\n",
    "---\n",
    "\n",
    "#### Notebook 3: NB3-myBeachProfile &mdash; Hands-on exercise with your own profile\n",
    "\n",
    "<small><a href='https://ec2-52-11-155-224.us-west-2.compute.amazonaws.com:8888/notebooks/NB2-myBeachProfile.ipynb'> Go to notebook3 </a></small>\n",
    "\n",
    "---\n",
    "\n",
    "<small>\n",
    "The notebooks and materials for this lecture have been deployed using the <a href='http://aws.amazon.com'>Amazon Web Services</a> Cloud Computing Services.\n",
    "</small>"
   ]
  }
 ],
 "metadata": {
  "kernelspec": {
   "display_name": "Python 2",
   "language": "python",
   "name": "python2"
  },
  "language_info": {
   "codemirror_mode": {
    "name": "ipython",
    "version": 2
   },
   "file_extension": ".py",
   "mimetype": "text/x-python",
   "name": "python",
   "nbconvert_exporter": "python",
   "pygments_lexer": "ipython2",
   "version": "2.7.6"
  }
 },
 "nbformat": 4,
 "nbformat_minor": 0
}
