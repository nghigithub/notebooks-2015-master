{
 "metadata": {
  "name": "",
  "signature": "sha256:c2325979660d5b799f486c3142eb00a3ecbd8161a0bf36d442044b2c6047ca88"
 },
 "nbformat": 3,
 "nbformat_minor": 0,
 "worksheets": [
  {
   "cells": [
    {
     "cell_type": "markdown",
     "metadata": {},
     "source": [
      "<h1> River profiles evolution "
     ]
    },
    {
     "cell_type": "code",
     "collapsed": false,
     "input": [
      "import pandas as pd\n",
      "import numpy as np\n",
      "import matplotlib.pyplot as plt"
     ],
     "language": "python",
     "metadata": {},
     "outputs": [],
     "prompt_number": 109
    },
    {
     "cell_type": "code",
     "collapsed": false,
     "input": [
      "location1=r'/Users/tristan/Desktop/river/riv10000.1.csv'\n",
      "location2=r'/Users/tristan/Desktop/river/riv10000.5.csv'\n",
      "location3=r'/Users/tristan/Desktop/river/riv10000.10.csv'\n",
      "location4=r'/Users/tristan/Desktop/river/riv10000.15.csv'\n",
      "location5=r'/Users/tristan/Desktop/river/riv10000.20.csv'\n",
      "location6=r'/Users/tristan/Desktop/river/riv10000.25.csv'\n",
      "location7=r'/Users/tristan/Desktop/river/riv10000.30.csv'\n",
      "location8=r'/Users/tristan/Desktop/river/riv10000.35.csv'\n",
      "location9=r'/Users/tristan/Desktop/river/riv10000.40.csv'\n",
      "location10=r'/Users/tristan/Desktop/river/riv10000.45.csv'"
     ],
     "language": "python",
     "metadata": {},
     "outputs": [],
     "prompt_number": 198
    },
    {
     "cell_type": "code",
     "collapsed": false,
     "input": [
      "fulldata1 = pd.read_csv(location1)\n",
      "fulldata2 = pd.read_csv(location2)\n",
      "fulldata3 = pd.read_csv(location3)\n",
      "fulldata4 = pd.read_csv(location4)\n",
      "fulldata5 = pd.read_csv(location5)\n",
      "fulldata6 = pd.read_csv(location6)\n",
      "fulldata7 = pd.read_csv(location7)\n",
      "fulldata8 = pd.read_csv(location8)\n",
      "fulldata9 = pd.read_csv(location9)\n",
      "fulldata10 = pd.read_csv(location10)\n",
      "top = fulldata1.head(1)\n",
      "top"
     ],
     "language": "python",
     "metadata": {},
     "outputs": [
      {
       "html": [
        "<div style=\"max-height:1000px;max-width:1500px;overflow:auto;\">\n",
        "<table border=\"1\" class=\"dataframe\">\n",
        "  <thead>\n",
        "    <tr style=\"text-align: right;\">\n",
        "      <th></th>\n",
        "      <th>Flow discharge</th>\n",
        "      <th>Strahler stream order</th>\n",
        "      <th>Subcatchment Id</th>\n",
        "      <th>vtkOriginalPointIds</th>\n",
        "      <th>Result</th>\n",
        "      <th>distance to outlet</th>\n",
        "      <th>Points:0</th>\n",
        "      <th>Points:1</th>\n",
        "      <th>Points:2</th>\n",
        "    </tr>\n",
        "  </thead>\n",
        "  <tbody>\n",
        "    <tr>\n",
        "      <th>0</th>\n",
        "      <td> 101120000</td>\n",
        "      <td> 6</td>\n",
        "      <td> 526</td>\n",
        "      <td> 0</td>\n",
        "      <td> 488.31</td>\n",
        "      <td> 50</td>\n",
        "      <td> 0</td>\n",
        "      <td> 50</td>\n",
        "      <td> 488.31</td>\n",
        "    </tr>\n",
        "  </tbody>\n",
        "</table>\n",
        "</div>"
       ],
       "metadata": {},
       "output_type": "pyout",
       "prompt_number": 199,
       "text": [
        "   Flow discharge  Strahler stream order  Subcatchment Id  \\\n",
        "0       101120000                      6              526   \n",
        "\n",
        "   vtkOriginalPointIds  Result  distance to outlet  Points:0  Points:1  \\\n",
        "0                    0  488.31                  50         0        50   \n",
        "\n",
        "   Points:2  \n",
        "0    488.31  "
       ]
      }
     ],
     "prompt_number": 199
    },
    {
     "cell_type": "code",
     "collapsed": false,
     "input": [
      "data1 = fulldata1[[\"distance to outlet\",\"Flow discharge\"]]\n",
      "data2 = fulldata2[[\"distance to outlet\",\"Flow discharge\"]]\n",
      "data3 = fulldata3[[\"distance to outlet\",\"Flow discharge\"]]\n",
      "data4 = fulldata4[[\"distance to outlet\",\"Flow discharge\"]]\n",
      "data5 = fulldata5[[\"distance to outlet\",\"Flow discharge\"]]\n",
      "data6 = fulldata6[[\"distance to outlet\",\"Flow discharge\"]]\n",
      "data7 = fulldata7[[\"distance to outlet\",\"Flow discharge\"]]\n",
      "data8 = fulldata8[[\"distance to outlet\",\"Flow discharge\"]]\n",
      "data9 = fulldata9[[\"distance to outlet\",\"Flow discharge\"]]\n",
      "data10 = fulldata10[[\"distance to outlet\",\"Flow discharge\"]]\n",
      "top = data1.head(1)\n",
      "top"
     ],
     "language": "python",
     "metadata": {},
     "outputs": [
      {
       "html": [
        "<div style=\"max-height:1000px;max-width:1500px;overflow:auto;\">\n",
        "<table border=\"1\" class=\"dataframe\">\n",
        "  <thead>\n",
        "    <tr style=\"text-align: right;\">\n",
        "      <th></th>\n",
        "      <th>distance to outlet</th>\n",
        "      <th>Flow discharge</th>\n",
        "    </tr>\n",
        "  </thead>\n",
        "  <tbody>\n",
        "    <tr>\n",
        "      <th>0</th>\n",
        "      <td> 50</td>\n",
        "      <td> 101120000</td>\n",
        "    </tr>\n",
        "  </tbody>\n",
        "</table>\n",
        "</div>"
       ],
       "metadata": {},
       "output_type": "pyout",
       "prompt_number": 200,
       "text": [
        "   distance to outlet  Flow discharge\n",
        "0                  50       101120000"
       ]
      }
     ],
     "prompt_number": 200
    },
    {
     "cell_type": "code",
     "collapsed": false,
     "input": [
      "df1 = data1.sort(['distance to outlet'], ascending=True)\n",
      "df2 = data2.sort(['distance to outlet'], ascending=True)\n",
      "df3 = data3.sort(['distance to outlet'], ascending=True)\n",
      "df4 = data4.sort(['distance to outlet'], ascending=True)\n",
      "df5 = data5.sort(['distance to outlet'], ascending=True)\n",
      "df6 = data6.sort(['distance to outlet'], ascending=True)\n",
      "df7 = data7.sort(['distance to outlet'], ascending=True)\n",
      "df8 = data8.sort(['distance to outlet'], ascending=True)\n",
      "df9 = data9.sort(['distance to outlet'], ascending=True)\n",
      "df10 = data10.sort(['distance to outlet'], ascending=True)\n",
      "top = df1.head(1)\n",
      "top"
     ],
     "language": "python",
     "metadata": {},
     "outputs": [
      {
       "html": [
        "<div style=\"max-height:1000px;max-width:1500px;overflow:auto;\">\n",
        "<table border=\"1\" class=\"dataframe\">\n",
        "  <thead>\n",
        "    <tr style=\"text-align: right;\">\n",
        "      <th></th>\n",
        "      <th>distance to outlet</th>\n",
        "      <th>Flow discharge</th>\n",
        "    </tr>\n",
        "  </thead>\n",
        "  <tbody>\n",
        "    <tr>\n",
        "      <th>1</th>\n",
        "      <td> 0</td>\n",
        "      <td> 101130000</td>\n",
        "    </tr>\n",
        "  </tbody>\n",
        "</table>\n",
        "</div>"
       ],
       "metadata": {},
       "output_type": "pyout",
       "prompt_number": 201,
       "text": [
        "   distance to outlet  Flow discharge\n",
        "1                   0       101130000"
       ]
      }
     ],
     "prompt_number": 201
    },
    {
     "cell_type": "code",
     "collapsed": false,
     "input": [
      "x1 = np.array(df1[df1.columns[0::2]])\n",
      "xmin = x1.min(axis=0)\n",
      "xmax = x1.max(axis=0)\n",
      "y1 = np.array(df1[df1.columns[1::2]])\n",
      "x2 = np.array(df2[df2.columns[0::2]])\n",
      "txmin = x2.min(axis=0)\n",
      "txmax = x2.max(axis=0)\n",
      "if txmin < xmin:\n",
      "    xmin=txmin\n",
      "if xmax < txmax:\n",
      "    xmax=tmax\n",
      "y2 = np.array(df2[df2.columns[1::2]])\n",
      "x3 = np.array(df3[df3.columns[0::2]])\n",
      "txmin = x3.min(axis=0)\n",
      "txmax = x3.max(axis=0)\n",
      "if txmin < xmin:\n",
      "    xmin=txmin\n",
      "if xmax < txmax:\n",
      "    xmax=tmax\n",
      "y3 = np.array(df3[df3.columns[1::2]])\n",
      "x4 = np.array(df4[df4.columns[0::2]])\n",
      "txmin = x4.min(axis=0)\n",
      "txmax = x4.max(axis=0)\n",
      "if txmin < xmin:\n",
      "    xmin=txmin\n",
      "if xmax < txmax:\n",
      "    xmax=tmax\n",
      "y4 = np.array(df4[df4.columns[1::2]])\n",
      "x5 = np.array(df5[df5.columns[0::2]])\n",
      "txmin = x5.min(axis=0)\n",
      "txmax = x5.max(axis=0)\n",
      "if txmin < xmin:\n",
      "    xmin=txmin\n",
      "if xmax < txmax:\n",
      "    xmax=tmax\n",
      "y5 = np.array(df5[df5.columns[1::2]])\n",
      "x6 = np.array(df6[df6.columns[0::2]])\n",
      "txmin = x6.min(axis=0)\n",
      "txmax = x6.max(axis=0)\n",
      "if txmin < xmin:\n",
      "    xmin=txmin\n",
      "if xmax < txmax:\n",
      "    xmax=tmax\n",
      "y6 = np.array(df6[df6.columns[1::2]])\n",
      "x7 = np.array(df7[df7.columns[0::2]])\n",
      "txmin = x7.min(axis=0)\n",
      "txmax = x7.max(axis=0)\n",
      "if txmin < xmin:\n",
      "    xmin=txmin\n",
      "if xmax < txmax:\n",
      "    xmax=tmax\n",
      "y7 = np.array(df7[df7.columns[1::2]])\n",
      "x8 = np.array(df8[df8.columns[0::2]])\n",
      "txmin = x8.min(axis=0)\n",
      "txmax = x8.max(axis=0)\n",
      "if txmin < xmin:\n",
      "    xmin=txmin\n",
      "if xmax < txmax:\n",
      "    xmax=tmax\n",
      "y8 = np.array(df8[df8.columns[1::2]])\n",
      "x9 = np.array(df9[df9.columns[0::2]])\n",
      "txmin = x9.min(axis=0)\n",
      "txmax = x9.max(axis=0)\n",
      "if txmin < xmin:\n",
      "    xmin=txmin\n",
      "if xmax < txmax:\n",
      "    xmax=tmax\n",
      "y9 = np.array(df9[df9.columns[1::2]])\n",
      "x10 = np.array(df10[df10.columns[0::2]])\n",
      "txmin = x10.min(axis=0)\n",
      "txmax = x10.max(axis=0)\n",
      "if txmin < xmin:\n",
      "    xmin=txmin\n",
      "if xmax < txmax:\n",
      "    xmax=tmax\n",
      "y10 = np.array(df10[df10.columns[1::2]])\n",
      "print xmin,xmax"
     ],
     "language": "python",
     "metadata": {},
     "outputs": [
      {
       "output_type": "stream",
       "stream": "stdout",
       "text": [
        "[ 0.] [ 0.]\n"
       ]
      }
     ],
     "prompt_number": 202
    },
    {
     "cell_type": "code",
     "collapsed": false,
     "input": [
      "# rescale\n",
      "y1 = y1-y1[0]\n",
      "ymin = y1.min(axis=0)\n",
      "ymax = y1.max(axis=0)\n",
      "y2 = y2-y2[0]\n",
      "tmax = y2.max(axis=0)\n",
      "if ymax < tmax:\n",
      "    ymax=tmax\n",
      "y3 = y3-y3[0]\n",
      "tmax = y3.max(axis=0)\n",
      "if ymax < tmax:\n",
      "    ymax=tmax\n",
      "y4 = y4-y4[0]\n",
      "tmax = y4.max(axis=0)\n",
      "if ymax < tmax:\n",
      "    ymax=tmax\n",
      "y5 = y5-y5[0]\n",
      "tmax = y5.max(axis=0)\n",
      "if ymax < tmax:\n",
      "    ymax=tmax\n",
      "y6 = y6-y6[0]\n",
      "tmax = y6.max(axis=0)\n",
      "if ymax < tmax:\n",
      "    ymax=tmax\n",
      "y7 = y7-y7[0]\n",
      "tmax = y7.max(axis=0)\n",
      "if ymax < tmax:\n",
      "    ymax=tmax\n",
      "y8 = y8-y8[0]\n",
      "tmax = y8.max(axis=0)\n",
      "if ymax < tmax:\n",
      "    ymax=tmax\n",
      "y9 = y9-y9[0]\n",
      "tmax = y9.max(axis=0)\n",
      "if ymax < tmax:\n",
      "    ymax=tmax\n",
      "y10 = y10-y10[0]\n",
      "tmax = y10.max(axis=0)\n",
      "if ymax < tmax:\n",
      "    ymax=tmax\n",
      "print ymin,ymax"
     ],
     "language": "python",
     "metadata": {},
     "outputs": [
      {
       "output_type": "stream",
       "stream": "stdout",
       "text": [
        "[-90139000.] [ 0.]\n"
       ]
      }
     ],
     "prompt_number": 203
    },
    {
     "cell_type": "code",
     "collapsed": false,
     "input": [
      "figure = plt.figure()\n",
      "figure.set_dpi(500)\n",
      "figure.set_size_inches(14, 7)\n",
      "plt.plot(x1, y1, label='250 kyr')\n",
      "plt.plot(x3, y3, label='300 kyr')\n",
      "plt.plot(x4, y4, label='325 kyr')\n",
      "plt.plot(x5, y5, label='350 kyr')\n",
      "plt.plot(x6, y6, label='375 kyr')\n",
      "plt.plot(x7, y7, label='400 kyr')\n",
      "plt.plot(x8, y8, label='425 kyr')\n",
      "plt.plot(x9, y9, label='450 kyr')\n",
      "plt.plot(x10, y10, label='475 kyr')\n",
      "plt.plot(x2, y2, label='500 kyr')\n",
      "legend = plt.legend(loc='lower right', shadow=False,prop={'size':10})\n",
      "legend.draw_frame(False)\n",
      "plt.xlabel('distance to outlet')\n",
      "plt.ylabel('elevation')\n",
      "axes = plt.gca()\n",
      "#axes.set_xlim([xmin,xmax])\n",
      "axes.set_ylim([ymin,ymax])\n",
      "figure.savefig('profile_500.png')"
     ],
     "language": "python",
     "metadata": {},
     "outputs": [
      {
       "metadata": {},
       "output_type": "display_data",
       "png": "[encoded data removed]",
       "text": [
        "<matplotlib.figure.Figure at 0x10b6f1d10>"
       ]
      }
     ],
     "prompt_number": 204
    },
    {
     "cell_type": "code",
     "collapsed": false,
     "input": [],
     "language": "python",
     "metadata": {},
     "outputs": []
    }
   ],
   "metadata": {}
  }
 ]
}