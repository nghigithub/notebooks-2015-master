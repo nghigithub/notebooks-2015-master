{
 "cells": [
  {
   "cell_type": "markdown",
   "metadata": {
    "slideshow": {
     "slide_type": "slide"
    }
   },
   "source": [
    "## Using IPython\n",
    "\n",
    "\n",
    "IPython is a command shell for interactive computing in multiple programming languages, originally developed for the Python programming language, that offers:\n",
    "\n",
    "* enhanced introspection, \n",
    "* rich media, \n",
    "* additional shell syntax, \n",
    "* tab completion, and\n",
    "* rich history. "
   ]
  },
  {
   "cell_type": "code",
   "execution_count": 1,
   "metadata": {
    "collapsed": false
   },
   "outputs": [
    {
     "data": {
      "text/html": [
       "<iframe src=http://nbviewer.ipython.org width=800 height=400></iframe>"
      ],
      "text/plain": [
       "<IPython.core.display.HTML object>"
      ]
     },
     "execution_count": 1,
     "metadata": {},
     "output_type": "execute_result"
    }
   ],
   "source": [
    "from IPython.core.display import HTML\n",
    "HTML('<iframe src=http://nbviewer.ipython.org width=800 height=400></iframe>')"
   ]
  },
  {
   "cell_type": "markdown",
   "metadata": {
    "slideshow": {
     "slide_type": "subslide"
    }
   },
   "source": [
    "## IPython is a nice tool for teaching & learning\n",
    "\n",
    "+ Active community: access to thousands of notebooks,\n",
    "+ Range of pythonize disciplines is vast: Math, Medical Sciences, Geosciences, Economy... \n",
    "+ Starting using IPython is **EASY** ! \n"
   ]
  },
  {
   "cell_type": "markdown",
   "metadata": {
    "slideshow": {
     "slide_type": "subslide"
    }
   },
   "source": [
    "## Installing modules\n",
    "\n",
    "A module is a Python object with arbitrarily named attributes that you can bind and reference. A module is a fit-2-purpose pice of code which defines \n",
    "\n",
    "+ functions, \n",
    "+ classes, \n",
    "+ variables, \n",
    "+ a runnable code.\n",
    "\n",
    "Installing a module is usually done using Python Package Installer: <code>pip</code>. \n",
    "\n",
    "Loading a module is straight forward:"
   ]
  },
  {
   "cell_type": "code",
   "execution_count": 2,
   "metadata": {
    "collapsed": false,
    "scrolled": true
   },
   "outputs": [],
   "source": [
    "%matplotlib inline\n",
    "from netCDF4 import Dataset\n",
    "from netCDF4 import num2date\n",
    "from IPython.core.display import HTML\n",
    "from matplotlib.pyplot import figure, pcolor, colorbar, xlabel, ylabel, title, draw, quiver, show"
   ]
  }
 ],
 "metadata": {
  "kernelspec": {
   "display_name": "Python 2",
   "language": "python",
   "name": "python2"
  },
  "language_info": {
   "codemirror_mode": {
    "name": "ipython",
    "version": 2
   },
   "file_extension": ".py",
   "mimetype": "text/x-python",
   "name": "python",
   "nbconvert_exporter": "python",
   "pygments_lexer": "ipython2",
   "version": "2.7.6"
  }
 },
 "nbformat": 4,
 "nbformat_minor": 0
}
