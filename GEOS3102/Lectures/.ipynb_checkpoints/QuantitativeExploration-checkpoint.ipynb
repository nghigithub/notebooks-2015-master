{
 "cells": [
  {
   "cell_type": "markdown",
   "metadata": {
    "slideshow": {
     "slide_type": "slide"
    }
   },
   "source": [
    "# GEOS3102: Global Energy & Resources\n",
    "<br/>\n",
    "### Quantitative approach to basin exploration\n",
    "<br/>\n",
    "#### Week 5"
   ]
  },
  {
   "cell_type": "markdown",
   "metadata": {
    "slideshow": {
     "slide_type": "slide"
    }
   },
   "source": [
    "# Outline\n",
    "<br/>\n",
    "### Sequence stratigraphy concepts"
   ]
  },
  {
   "cell_type": "markdown",
   "metadata": {
    "slideshow": {
     "slide_type": "fragment"
    }
   },
   "source": [
    "### Sediment transport"
   ]
  },
  {
   "cell_type": "markdown",
   "metadata": {
    "slideshow": {
     "slide_type": "fragment"
    }
   },
   "source": [
    "### Fluvial processes and associated sedimentary architectures"
   ]
  },
  {
   "cell_type": "markdown",
   "metadata": {
    "slideshow": {
     "slide_type": "fragment"
    }
   },
   "source": [
    "### Deep marine sedimentary systems (turbidity currents)"
   ]
  },
  {
   "cell_type": "markdown",
   "metadata": {
    "slideshow": {
     "slide_type": "slide"
    }
   },
   "source": [
    "# Sequence stratigraphy\n",
    "<br/>\n",
    "<div align=\"center\">\n",
    "    <img width=1000 src=\"http://www.seismicatlas.org/uploaded/image/201309/21916a9a-2153-4ed2-9d89-5d005f5bdea5.jpg\" title=\"Seismic stratigraphy\"</img>\n",
    "    <small>source: [Virtual Seismic Atlas](http://www.seismicatlas.org/entity?id=ba4bfcdc-5596-45a2-a320-88622c9f49b3)</small>\n",
    "</div>\n",
    "\n",
    "---\n",
    "\n",
    "Sequence stratigraphy analyzes the sedimentary response to changes in **base level**, and the depositional trends that emerge from the interplay of **accommodation** and **sedimentation**."
   ]
  },
  {
   "cell_type": "markdown",
   "metadata": {
    "slideshow": {
     "slide_type": "slide"
    }
   },
   "source": [
    "## Sequence stratigraphic framework \n",
    "<br/>\n",
    "<div align=\"center\">\n",
    "    <img width=900 src=\"http://www.sepmstrata.org/CMS_Images/Flow-diagram-sequence-strat.jpg\" title=\"Sequence stratigraphy framework\"</img>\n",
    "    <small>source: [SEPM](http://www.sepmstrata.org/page.aspx?pageid=410)</small>\n",
    "</div>\n",
    "\n",
    "---\n",
    "\n",
    "Information from detailed geological analysis populates a sequence stratigraphic framework so leading to accurate **interpretations of depositional setting** and **predictions of lithofacies geometries** in unknown portions of a basin."
   ]
  },
  {
   "cell_type": "markdown",
   "metadata": {
    "slideshow": {
     "slide_type": "subslide"
    }
   },
   "source": [
    "## Sequence stratigraphic framework \n",
    "<br/>\n",
    "<div align=\"center\">\n",
    "    <img width=900 src=\"http://www.sepmstrata.org/CMS_Images/Analysis.jpg\" title=\"Sequence stratigraphy framework\"</img>\n",
    "    <small>source: [SEPM](http://www.sepmstrata.org/page.aspx?pageid=410)</small>\n",
    "</div>\n",
    "\n",
    "---\n",
    "\n",
    "A **sequence stratigraphic framework** leads to interpretations of depositional setting and predictions of lithofacies geometries.  It extends the interpretation of the depositional setting and predictions of lithofacies’ geometries away from the known areas. <br/> It also aids prediction of sedimentary rocks likely to contain both **hydrocarbon and water resources** and what their characteristic fabrics might be."
   ]
  },
  {
   "cell_type": "markdown",
   "metadata": {
    "slideshow": {
     "slide_type": "subslide"
    }
   },
   "source": [
    "## History of Sequence stratigraphy\n",
    "<br/>\n",
    "<div align=\"center\">\n",
    "    <img width=800 src=\"http://media-2.web.britannica.com/eb-media/23/151223-004-F5C3C6F0.jpg\" title=\"Steno's Law\"</img>\n",
    "    <small>source: [Encyclopedia Britanica](http://en.wikibooks.org/wiki/High_School_Earth_Science/Relative_Ages_of_Rocks)</small>\n",
    "</div>\n",
    "\n",
    "---\n",
    "In 1669, Nicolaus Steno formulated a few basic rules that helped him make sense of the rocks of Tuscany and the various objects contained within them."
   ]
  },
  {
   "cell_type": "markdown",
   "metadata": {
    "slideshow": {
     "slide_type": "subslide"
    }
   },
   "source": [
    "<div align=\"center\">\n",
    "    <img width=1000 src=\"http://earthobservatory.nasa.gov/Features/WilliamSmith/images/sketch_of_the_succession_of_strata.jpg\" title=\"Sketch of stratal succession\"</img>\n",
    "    <small>source: [William Smith - Nasa](http://earthobservatory.nasa.gov/Features/WilliamSmith)</small>\n",
    "</div>\n",
    "\n",
    "---\n",
    "\n",
    "- James Hutton (1726-1797):  Father of Modern Geology \n",
    "    - First described unconformity at Siccar Point in northern Scotland\n",
    "    - In a paper entitled “Theory of The Earth” (1785) Hutton recognized the importance of unconformities \n",
    "    - Also recognized stratigraphic nature of igneous rocks and believed came from molten material within Earth.\n",
    "    "
   ]
  },
  {
   "cell_type": "markdown",
   "metadata": {
    "slideshow": {
     "slide_type": "fragment"
    }
   },
   "source": [
    "- William Smith measured and described outcrop stratigraphy during excavation of transport canals in England beginning in 1791 "
   ]
  },
  {
   "cell_type": "markdown",
   "metadata": {
    "slideshow": {
     "slide_type": "subslide"
    }
   },
   "source": [
    "- Johannes Walther (1892) proposed what is now known as “Walther’s Law of Facies Succession”\n",
    "    - \"Facies adjacent to one another in a continuous vertical sequence also accumulated adjacent to one another laterally\"."
   ]
  },
  {
   "cell_type": "markdown",
   "metadata": {
    "slideshow": {
     "slide_type": "fragment"
    }
   },
   "source": [
    "- Eliot Blackwelder in 1909 published use of unconformities as time markers; introduced concept of time represented by surfaces  \n",
    "    - erosional removal and sedimentary hiatus"
   ]
  },
  {
   "cell_type": "markdown",
   "metadata": {
    "slideshow": {
     "slide_type": "fragment"
    }
   },
   "source": [
    "- Amadeus Grabau 1916 proposed the pulsation theory. "
   ]
  },
  {
   "cell_type": "markdown",
   "metadata": {
    "slideshow": {
     "slide_type": "fragment"
    }
   },
   "source": [
    "- Joseph Barrell in 1917 stated the most fundamental events in geologic history -- the time-space distribution of deposition and non-deposition: <br/> **the alternating rise and fall of Base-level**. "
   ]
  },
  {
   "cell_type": "markdown",
   "metadata": {
    "slideshow": {
     "slide_type": "fragment"
    }
   },
   "source": [
    "- John L. Rich proposed the concept of clinoforms in 1951"
   ]
  },
  {
   "cell_type": "markdown",
   "metadata": {
    "slideshow": {
     "slide_type": "skip"
    }
   },
   "source": [
    "- Harry Wheeler in 1958 produced first chronostratigraphic chart"
   ]
  },
  {
   "cell_type": "markdown",
   "metadata": {
    "slideshow": {
     "slide_type": "fragment"
    }
   },
   "source": [
    "- In 1963, Lawrence Sloss recognized 6 major sequences in North America controlled by eustatic sea level changes"
   ]
  },
  {
   "cell_type": "markdown",
   "metadata": {
    "slideshow": {
     "slide_type": "fragment"
    }
   },
   "source": [
    "- Peter Vail and Robert Mitchum coordinated the publishing of AAPG Memoir #26 based on the assumption that a seismic relection surface represents a time line."
   ]
  },
  {
   "cell_type": "markdown",
   "metadata": {
    "slideshow": {
     "slide_type": "slide"
    }
   },
   "source": [
    "## Global sea-level curves\n",
    "\n",
    "<div align=\"center\">\n",
    "    <img width=800 src=\"http://www.sciencemag.org/content/310/5752/1293/F2.large.jpg\" title=\"Paleo Sea Level Estimates\"</img>\n",
    "    <small>source: [ScienceMag](http://www.sciencemag.org/content/310/5752/1293/F2.expansion.html)</small>\n",
    "</div>\n",
    "\n",
    "---\n",
    "\n",
    "Sea-level change evolves by cycles there are several orders of cyclicity happening at different frequencies and magnitudes. <br/>\n",
    "**These changes are recorded in the sedimentary architecture. ** "
   ]
  },
  {
   "cell_type": "markdown",
   "metadata": {
    "slideshow": {
     "slide_type": "subslide"
    }
   },
   "source": [
    "## Why is it important?\n",
    "\n",
    "#### Because sea-level controls what sediment is produced and where it is deposited.\n",
    "<br/>\n",
    "<div align=\"center\">\n",
    "    <img width=800 src=\"http://www.sepmstrata.org/CMS_Images/AccommodationOpenU.gif\" title=\"Accommodation\"</img>\n",
    "    <small>source: [TheOpenUniversity](http://www.sepmstrata.org/Terminology.aspx?id=accommodation)</small>\n",
    "</div>\n",
    "\n",
    "---\n",
    "\n",
    "Sea-level controls the space available for _potential sediment accumulation_: **Accommodation Space**. This space is the combined product of movement of:\n",
    "\n",
    "- Global sea-level \n",
    "- Sea floor \n",
    "- Changes in rates of sediment accumulation.\n",
    "\n",
    "The bigger the accommodation space, the bigger the accumulated sediment thicknesses will be --- which in turn means the better the potential reservoir could be. "
   ]
  },
  {
   "cell_type": "markdown",
   "metadata": {
    "slideshow": {
     "slide_type": "subslide"
    }
   },
   "source": [
    "## Balance between sea-level change and sediment flux\n",
    "<br/>\n",
    "<div align=\"center\">\n",
    "    <img width=800 src=\"http://www.sepmstrata.org/CMS_Images/PosAllenReg.gif\" title=\"Accommodation\"</img>\n",
    "    <small>source: [SEPM](http://www.sepmstrata.org/page.aspx?pageid=410)</small>\n",
    "</div>\n",
    "\n",
    "---\n",
    "\n",
    "- If the relative sea level rises and there is a zero or low sediment flux, then **transgression** occurs.\n",
    "- If relative sea level rises and there is a low rate of sediment flux, then **retrogradation** of the coastal sequence parasequence occurs.\n",
    "- If relative sea level rises and the rate of sediment flux matches the sea level rise, then **aggradation** of the coastal parasequence occurs.\n",
    "- If relative sea level rises and the rate of sediment flux exceeds the sea level rise, then **progradation** of the coastal sequence parasequence occurs."
   ]
  },
  {
   "cell_type": "markdown",
   "metadata": {
    "slideshow": {
     "slide_type": "subslide"
    }
   },
   "source": [
    "## System tracts concept\n",
    "\n",
    "<br/>\n",
    "<div align=\"center\">\n",
    "    <img width=750 src=\"http://www.searchanddiscovery.com/documents/2003/dawson/images/305.jpg\" title=\"Accommodation\"</img>\n",
    "    <small>Relation between eustatic cycles, depositional geometry cycles, and systems tracts. source: [SearchDiscovery](http://www.searchanddiscovery.com/documents/2003/dawson/images/305.htm)</small>\n",
    "</div>\n",
    "\n",
    "\n",
    "---\n",
    "\n",
    "**System tracts** come in numerous types and are named according to sea level position/state during deposition.<br/>\n",
    "The 6 most important are:\n",
    "\n",
    "- **LST**: low stand system tract\n",
    "- **HST**: high stand system tract\n",
    "- **TST**: transgressive system tract\n",
    "- **FSST**: Falling stage system tract \n",
    "- **RST**: Regressive system tract \n",
    "- **FRST**: Forced regressive system tract "
   ]
  },
  {
   "cell_type": "markdown",
   "metadata": {
    "slideshow": {
     "slide_type": "subslide"
    }
   },
   "source": [
    "## Sequence boundary\n",
    "\n",
    "<br/>\n",
    "<div align=\"center\">\n",
    "    <img width=800 src=\"http://www.seddepseq.co.uk/SEQ_STRAT/Sequence_Stratigraphy/Picture21.jpg\" title=\"Idealised Cross-section of System Tracts\"</img>\n",
    "    <small>Idealised Cross-section of System Tracts. source: [SedDepSeq](http://www.seddepseq.co.uk/SEQ_STRAT/Sequence_Stratigraphy/sequence_strat_basic.htm)</small>\n",
    "</div>\n",
    "\n",
    "---\n",
    "\n",
    "Sequence boundary (**SB**) envelopes a sequence extending down dip to a correlative conformity (Mitchum, 1977). This surface demarks the boundary between a **highstand systems tract (HST)** and **falling stage systems tract (FSST)** (Catuneanu, et al, 2011)."
   ]
  },
  {
   "cell_type": "markdown",
   "metadata": {
    "slideshow": {
     "slide_type": "subslide"
    }
   },
   "source": [
    "## Sequence boundary from seismic interpretation\n",
    "\n",
    "<br/>\n",
    "<div align=\"center\">\n",
    "    <img width=1000 src=\"http://geosphere.geoscienceworld.org/content/9/5/1257/F2.large.jpg\" title=\"IODP seismic interpretation\"</img>\n",
    "    <small>Sequence boundaries are impedance contrasts. source: [Geosphere](http://geosphere.geoscienceworld.org/content/9/5/1257/F2.expansion.html)</small>\n",
    "</div>\n"
   ]
  },
  {
   "cell_type": "code",
   "execution_count": 4,
   "metadata": {
    "collapsed": false,
    "slideshow": {
     "slide_type": "subslide"
    }
   },
   "outputs": [
    {
     "data": {
      "text/html": [
       "\n",
       "        <iframe\n",
       "            width=\"400\"\n",
       "            height=\"300\"\n",
       "            src=\"https://www.youtube.com/embed/yzFenAbmzrE\"\n",
       "            frameborder=\"0\"\n",
       "            allowfullscreen\n",
       "        ></iframe>\n",
       "        "
      ],
      "text/plain": [
       "<IPython.lib.display.YouTubeVideo at 0x7ff30803cc50>"
      ]
     },
     "execution_count": 4,
     "metadata": {},
     "output_type": "execute_result"
    }
   ],
   "source": [
    "from IPython.display import YouTubeVideo\n",
    "# Clastic System Tracts  https://www.youtube.com/watch?v=yzFenAbmzrE\n",
    "YouTubeVideo('yzFenAbmzrE') "
   ]
  },
  {
   "cell_type": "markdown",
   "metadata": {},
   "source": [
    "---\n",
    "\n",
    "- **LST**: low stand system tract\n",
    "- **HST**: high stand system tract\n",
    "- **TST**: transgressive system tract\n",
    "- **FSST**: Falling stage system tract \n",
    "- **RST**: Regressive system tract \n",
    "- **FRST**: Forced regressive system tract "
   ]
  },
  {
   "cell_type": "markdown",
   "metadata": {
    "slideshow": {
     "slide_type": "slide"
    }
   },
   "source": [
    "# Surface processes - sediment transport\n",
    "\n",
    "<br/>\n",
    "<div align=\"center\">\n",
    "    <img width=800 src=\"http://www.iyds-2013.org/sites/www.iyds-2013.org/files/lena.jpg\" title=\"Lena Delta\"</img>\n",
    "    <small>The Lena River Delta (Russia). [source](http://www.iyds-2013.org)</small>\n",
    "</div>\n",
    "\n",
    "---"
   ]
  },
  {
   "cell_type": "markdown",
   "metadata": {
    "slideshow": {
     "slide_type": "subslide"
    }
   },
   "source": [
    "## Source to sink\n",
    "\n",
    "<br/>\n",
    "<div align=\"center\">\n",
    "    <img width=300 src=\"http://clasticdetritus.files.wordpress.com/2008/02/allen-08-fig.jpg?w=822&h=1342\" title=\"Source2Sink\"</img>\n",
    "    <small>[Blog](http://clasticdetritus.com/2008/05/28/the-future-of-sedimentary-geology)</small>\n",
    "</div>\n",
    "\n"
   ]
  },
  {
   "cell_type": "markdown",
   "metadata": {
    "slideshow": {
     "slide_type": "subslide"
    }
   },
   "source": [
    "## Fluvial Classification\n",
    "\n",
    "### Braided rivers\n",
    "<br/>\n",
    "<div align=\"center\">\n",
    "    <img width=800 src=\"http://patternsofnatureblog.com/wp-content/uploads/2012/03/braided-rivers1.jpg\" title=\"braided river\"</img>\n",
    "    <small>[source](http://imgkid.com/braided-river.shtml)</small>\n",
    "</div>\n",
    "\n",
    "+ Braided rivers are characterized by multiple channels that are often laterally unstable. \n",
    "+ Channels enclose bars, consisting of sand or gravel. \n",
    "+ Braided streams occur in rivers with **high slope** and/or **large sediment load**. \n",
    "+ Braided channels are also typical of environments that dramatically decrease channel depth, and consequently channel velocity, such as river deltas, alluvial fans and peneplains."
   ]
  },
  {
   "cell_type": "markdown",
   "metadata": {
    "slideshow": {
     "slide_type": "subslide"
    }
   },
   "source": [
    "### Meandering rivers\n",
    "<br/>\n",
    "<div align=\"center\">\n",
    "    <img width=800 src=\"http://openwalls.com/image/7819/meandering_river_1920x1080.jpg\" title=\"meandering river\"</img>\n",
    "    <small>[source](http://openwalls.com/image?id=7819l)</small>\n",
    "</div>\n",
    "\n",
    "+  Meandering rivers typically have one channel that is sinuously curved.\n",
    "+ As it flows, it deposits sediment on banks that lie on the insides of curves (point bar deposits), and erode the banks on the outside of curves."
   ]
  },
  {
   "cell_type": "markdown",
   "metadata": {
    "slideshow": {
     "slide_type": "subslide"
    }
   },
   "source": [
    "### Straight rivers\n",
    "<br/>\n",
    "<div align=\"center\">\n",
    "    <img width=700 src=\"https://prdialoguer.files.wordpress.com/2010/10/channel.jpg\" title=\"straight river\"</img>\n",
    "    <small>[source](http://galleryhip.com/channel-river.html)</small>\n",
    "</div>\n",
    "\n",
    "+  Straight rivers have a low sinuosity index (the ratio: channel length/distance across the channel belt). \n",
    "+ They generally lack the typical features of meandering rivers, like point bars. "
   ]
  },
  {
   "cell_type": "markdown",
   "metadata": {
    "slideshow": {
     "slide_type": "subslide"
    }
   },
   "source": [
    "### Anastomosing rivers\n",
    "<br/>\n",
    "<div align=\"center\">\n",
    "    <img width=800 src=\"http://www.geo.uu.nl/fg/palaeogeography/pictures/results_fluvialstyle/04_Columbia_18205-487-9.jpg\" title=\"anastomosing river\"</img>\n",
    "    <small>[source](http://www.geo.uu.nl/fg/palaeogeography/results/fluvialstyle)</small>\n",
    "</div>\n",
    "\n",
    "+ Anastomosing rivers are characterized by multiple channels that are laterally stable. \n",
    "+ The channels enclose flood basins."
   ]
  },
  {
   "cell_type": "markdown",
   "metadata": {
    "slideshow": {
     "slide_type": "subslide"
    }
   },
   "source": [
    "## Channel stacking\n",
    "<div align=\"center\">\n",
    "    <img width=800 src=\"http://www.sepmstrata.org/CMS_Images/Organized-versus-disorganiz.jpg\" title=\"channel stacking\"</img>\n",
    "    <small>[SEPM](http://www.sepmstrata.org/Terminology.aspx?id=amalgamated%20channel)</small>\n",
    "</div>\n",
    "\n",
    "The channels are confined within eroded topography and vary their lithological character and the organization of the stacking of their geometries in response to the rates of flow of the transporting media and the character of the source areas of the sediments carried to their current depositional setting. "
   ]
  },
  {
   "cell_type": "markdown",
   "metadata": {
    "slideshow": {
     "slide_type": "subslide"
    }
   },
   "source": [
    "## Stratigraphic architecture of fluvial depositional sequence\n",
    "<div align=\"center\">\n",
    "    <img width=1000 src=\"http://www.epgeology.com/page-images/fluvial-sequence-stratigrpahy/fig4-stratigraphic-architecture-fluvial-depositional-sequence-small.jpg\" title=\"depositional sequence\"</img>\n",
    "    <small>[EPGeology](http://www.epgeology.com/articles/fluvial-sequence-stratigraphy.html)</small>\n",
    "</div>\n",
    "\n",
    "Stratigraphic architecture of a fluvial depositional sequence influenced by base-level fluctuations for a incised valley (left) and a bypass channel system (right). Note difference between tidally influenced (estuarine) channels caused by flooding of incised valleys opposed to more lagoonal deposits when the flat shelf of the bypass system is flooded. Abbreviations: maximum flooding surface (MFS)."
   ]
  },
  {
   "cell_type": "markdown",
   "metadata": {
    "slideshow": {
     "slide_type": "subslide"
    }
   },
   "source": [
    "## Fluvial reservoir & seal/trap\n",
    "<br/>\n",
    "<div align=\"center\">\n",
    "    <img width=800 src=\"http://csegrecorder.com/assets/images/articles/2010-11-depth-conversion-fig17.jpg\" title=\"fluvial reservoir\"</img>\n",
    "    <small>[CSEG](http://csegrecorder.com/articles/view/depth-conversion-and-seismic-lithology-inversion-mcmurray-reservoir)</small>\n",
    "</div>\n",
    "\n",
    "Possible interpretation of the sand/shale channel system. Yellow: High reservoir quality sand channels. Yellow hatched: High reservoir quality sand channels, water saturated. Orange: Lower reservoir quality IHS, i.e. sandy/muddy IHS. Green: Mud channels. Red: Gas filled sand (McMurray Oil Sands Reservoir Canada).\n",
    "\n",
    "---"
   ]
  },
  {
   "cell_type": "markdown",
   "metadata": {},
   "source": [
    "<div align=\"center\">\n",
    "    <img width=900 src=\"http://www.vims.edu/research/units/labgroups/coastal_geology/_photos/Inlet%20GPR.png\" title=\"fluvial reservoir\"</img>\n",
    "    <small>[VIMS](http://www.vims.edu/research/units/labgroups/coastal_geology/research_projects/barrier_evolution/index.php)</small>\n",
    "</div>\n",
    "\n",
    "Processed (top) and interpreted (botton) ground-penetrating radar (GPR) line from across the paleo-Parker Inlet in central Plum Island. Inlet is partially underlain by fluvial channel fill deposits of the lowstand Parker River channel and is overtopped by a southerly-elongating spit. Modified from Hein et al., 2013 (geologic map)."
   ]
  },
  {
   "cell_type": "markdown",
   "metadata": {
    "slideshow": {
     "slide_type": "subslide"
    }
   },
   "source": [
    "<div align=\"center\">\n",
    "    <img width=800 src=\"http://www.beg.utexas.edu/indassoc/dm2/graphics/quan_3.jpg\" title=\"fluvial reservoir\"</img>\n",
    "    <small>[BEG](http://www.beg.utexas.edu/indassoc/dm2/qcl_quantitative.htm)</small>\n",
    "</div>\n",
    "\n",
    "A compound fluvial meander at ~2.3 seconds in the West Natuna Basin, Indonesia. Data provided by ConocoPhillips, Indonesia"
   ]
  },
  {
   "cell_type": "markdown",
   "metadata": {
    "slideshow": {
     "slide_type": "slide"
    }
   },
   "source": [
    "## Physical processes\n",
    "<br/>\n",
    "<div align=\"center\">\n",
    "    <img width=400 src=\"http://hinderedsettling.files.wordpress.com/2014/03/ucayali71.gif?w=560&h=295\" title=\"Ucayali River\"</img>\n",
    "    <small>Rivers through time, as seen in Landsat images.[Lansat](http://hinderedsettling.com/2014/03/16/rivers-through-time-as-seen-in-landsat-images/)</small>\n",
    "</div>"
   ]
  },
  {
   "cell_type": "markdown",
   "metadata": {},
   "source": [
    "### River vertical velocity profile\n",
    "\n",
    "The velocity distribution over depth can be theoretically described by a logarithmic formula:\n",
    "$$u(z)=\\frac{u_{\\star}}{\\kappa} ln\\left( \\frac{z}{z_o} \\right)$$\n",
    "with:\n",
    "\n",
    "- $u$ local velocity (m/s)\n",
    "- $z$ vertical distance from river bed (m)\n",
    "- $u_{\\star}=0.4$ Karmann-constant\n",
    "- $z_o$ referent distance from the riverbed (m)\n",
    "\n",
    "The vertical distance $z_o$ describes the height of the hydraulic boundary layer. In this layer the velocity approximates towards zero. \n",
    "<br/>\n",
    "The equation above is the general theoretical law for velocity distribution and is applicable in order to calculate turbulent flow occurring over **hydraulically smooth or rough solid boundaries**. \n",
    "\n",
    "<br/>\n",
    "<div align=\"center\">\n",
    "    <img width=500 src=\"http://daad.wb.tu-harburg.de/typo3temp/pics/47ed889bce.jpg\" title=\"Velocity profile\"</img>\n",
    "    <small>[source](http://daad.wb.tu-harburg.de/?id=765)</small>\n",
    "</div>\n",
    "\n",
    "### Flow conditions \n",
    "\n",
    "Although fluid flow is describable by the continuous variables given above, it typically falls into one of two discrete states:\n",
    "\n",
    "- **Laminar flow**: Fluid particles move uniformly in subparallel sheets or filaments. Characteristic of slow moving or very viscous material \n",
    "- **Turbulent flow**: Fluid particles move in random haphazard pattern. Characteristic of high velocity material. High erosive effect"
   ]
  },
  {
   "cell_type": "markdown",
   "metadata": {
    "slideshow": {
     "slide_type": "subslide"
    }
   },
   "source": [
    "### River horizontal velocity profile...\n",
    "\n",
    "<br/>\n",
    "<div align=\"center\">\n",
    "    <img width=400 src=\"http://www.geol.umd.edu/~jmerck/geol342/images/10streamcrosssections.jpg\" title=\"Horizontal velocity profile\"</img>\n",
    "    <small>[source](http://www.geol.umd.edu/~jmerck/geol342/lectures/10.html)</small>\n",
    "</div>"
   ]
  },
  {
   "cell_type": "markdown",
   "metadata": {
    "slideshow": {
     "slide_type": "subslide"
    }
   },
   "source": [
    "### What happens around a meander?\n",
    "\n",
    "<br/>\n",
    "<div align=\"center\">\n",
    "    <img width=400 src=\"http://www.geol.umd.edu/~jmerck/geol342/images/10meanderloop.jpg\" title=\"meander horizontal velocity profile\"</img>\n",
    "    <small>[source](http://www.geol.umd.edu/~jmerck/geol342/lectures/10.html)</small>\n",
    "</div>\n",
    "\n",
    "If the world were geometrically simple, all channels would be perfectly straight with frictionless sides, and all water would move through them at the same speed. In the real world, friction slows the water interacting with the walls of the channel.\n",
    "<br/>\n",
    "**Thalweg**: The fastest moving current occupies the thalweg, the deepest portion of the channel.\n"
   ]
  },
  {
   "cell_type": "markdown",
   "metadata": {},
   "source": [
    "Secondary flow in a river, the result of reduced centrifugal forces at the bottom\n",
    "<br/>\n",
    "<br/>\n",
    "<div align=\"center\">\n",
    "    <img width=600 src=\"http://1.bp.blogspot.com/_zWNW_P1SBcA/TOh4ELeNdmI/AAAAAAAAAc0/aAji0enSICw/s1600/sketch+of+secondary+circulation-01.jpg\" title=\"Secondary flow\"</img>\n",
    "    <small>[source](http://zsylvester.blogspot.com.au/2010/11/einstein-tea-leaves-meandering-rivers.html)</small>\n",
    "</div>"
   ]
  },
  {
   "cell_type": "markdown",
   "metadata": {
    "slideshow": {
     "slide_type": "slide"
    }
   },
   "source": [
    "### Sediment transport\n",
    "\n",
    "Secondary flow in a river, the result of reduced centrifugal forces at the bottom\n",
    "<br/>\n",
    "<div align=\"center\">\n",
    "    <img width=600 src=\"http://www.geol.umd.edu/~jmerck/geol342/images/04load.jpg\" title=\"Sediment transport\"</img>\n",
    "    <small>[source](http://www.geol.umd.edu/~jmerck/geol342/)</small>\n",
    "</div>\n",
    "\n",
    "The sediment, itself, is transported as three distinct loads:\n",
    "\n",
    "- **Dissolved load**: The fraction in solution as ions.\n",
    "- **Suspended load**: That fine portion that is kept in constant suspension by electrostatic and viscous interactions with the surrounding water. Generally clay or silt sized particles.\n",
    "- **Bed load**: That portion that cannot be kept in constant suspension. Generally sand sized and larger. The bed load moves in two manners:\n",
    "    - **saltation**: bouncing along the stream bed, or being repeatedly picked up and put down by FF.\n",
    "    - **Traction**: The remainder that rolls or slides in constant contact with the bed."
   ]
  },
  {
   "cell_type": "markdown",
   "metadata": {
    "slideshow": {
     "slide_type": "subslide"
    }
   },
   "source": [
    "### Modes of sediment transport\n",
    "\n",
    "<div align=\"center\">\n",
    "    <img width=500 src=\"https://www.geol.umd.edu/~jmerck/geol342/images/04netfluidforce.jpg\" title=\"Fluid forces\"</img>\n",
    "    <small>[source](http://www.geol.umd.edu/~jmerck/geol342/)</small>\n",
    "</div>\n",
    "\n",
    "\n",
    "Sediment motion in flowing fluid  is moved by mechanical forces. This involves three distinct processes:\n",
    "\n",
    "- Entrainment: Particles picked up into the transport medium (water, air, etc.)\n",
    "- Transport: Movement within the transport medium\n",
    "- Deposition: Settling out of the transport medium\n",
    "\n"
   ]
  },
  {
   "cell_type": "markdown",
   "metadata": {
    "slideshow": {
     "slide_type": "subslide"
    }
   },
   "source": [
    "### Hjulstrom diagram\n",
    "\n",
    "<div align=\"center\">\n",
    "    <img width=600 src=\"http://eesc.columbia.edu/courses/ees/lithosphere/homework/hmwk2.gif\" title=\"Hjulstrom diagram\"</img>\n",
    "    <small>Hjulstrom diagram. [source](http://eesc.columbia.edu/courses/ees/lithosphere)</small>\n",
    "</div>\n",
    "\n",
    "\n",
    "There is a relationship between a stream's velocity (energy) and the size clast that it can transport. Intuitively we sense that larger clasts need more energy to be moved than smaller ones, but reality is more subtle. This is shown in the Hjulstrom diagram, that gives a zone of sediment transport in grey. The upper limit is the velocity at which a clast of a given size is entrained, the lower limit is the velocity at which an entrained clast is deposited."
   ]
  },
  {
   "cell_type": "markdown",
   "metadata": {
    "slideshow": {
     "slide_type": "slide"
    }
   },
   "source": [
    "## Marine processes\n",
    "<br/>\n",
    "<div align=\"center\">\n",
    "    <img width=600 src=\"http://www.labexmer.eu/en/research/sediment-transfer/Schema_axe_4.tif\" title=\"sediment transfer\"</img>\n",
    "    <small>[source](http://www.labexmer.eu/en/research/sediment-transfer)</small>\n",
    "</div>\n",
    "\n",
    "Sedimentary processes occurring along continental margins are complex and result from the interaction between deep processes (Tectonics with Subsidence/Uplift) and surficial processes (Climate, Sea level and Hydrodynamic).\n",
    "\n",
    "There are 2 types of sedimentary fluxes:\n",
    "\n",
    "- Fluxes at the terrestrial-coastal interface -- role of extreme events (storms, floods, cyclones for example) compared to more continuous record (annual, pluriannual or millenial)\n",
    "- Transfer of sediment towards the deep domain during phases of erosion/transport/deposition on the shelf, by gravity processes via submarine canyons but also more generally through open-slope."
   ]
  },
  {
   "cell_type": "markdown",
   "metadata": {
    "slideshow": {
     "slide_type": "subslide"
    }
   },
   "source": [
    "### Marine geomorphology: submarine canyons\n",
    "<br/>\n",
    "\n",
    "<div align=\"center\">\n",
    "    <img width=500 src=\"http://www.wired.com/images_blogs/wiredscience/2011/01/huenemelg.jpg\" title=\"Submarine Canyon\"</img>\n",
    "    <small> Map of Hueneme submarine canyon near Oxnard California. [USGS](http://www.wired.com/2011/11/ideas-about-the-origin-of-submarine-canyons-from-the-1930s/)</small>\n",
    "</div>\n",
    "\n"
   ]
  },
  {
   "cell_type": "markdown",
   "metadata": {
    "slideshow": {
     "slide_type": "subslide"
    }
   },
   "source": [
    "### Turbidity currents\n",
    "<br/>\n",
    "\n",
    "<div align=\"center\">\n",
    "    <img width=600 src=\"https://offtheshelfedge.files.wordpress.com/2012/11/turbidity-current.jpg?w=600&h=209\" title=\"turbidity  currents\"</img>\n",
    "    <small> [source](https://offtheshelfedge.wordpress.com/2012/11/07/the-bouma-sequence-and-turbidite-deposits/)</small>\n",
    "</div>\n",
    "\n",
    "Turbidity currents are a type of sediment gravity flow where turbulence is the dominant mechanism for grain support.  A turbidity current that is more familiar to most people is a snow avalanche.  A turbidity current is structured like the image above, with a head, body, and tail. "
   ]
  },
  {
   "cell_type": "markdown",
   "metadata": {
    "slideshow": {
     "slide_type": "-"
    }
   },
   "source": [
    "<div align=\"center\">\n",
    "    <img width=600 src=\"http://geology.gsapubs.org/content/38/6/563/F3.large.jpg\" title=\"turbidity  currents\"</img>\n",
    "    <small> [GSA](http://geology.gsapubs.org/)</small>\n",
    "</div>\n",
    "\n",
    "Turbidity currents in the world’s oceans produce spectacular seafloor architectures like canyons, channels, and lobes/fans, depending on the amount of erosion or deposition taking place at a particular location. "
   ]
  },
  {
   "cell_type": "markdown",
   "metadata": {
    "slideshow": {
     "slide_type": "subslide"
    }
   },
   "source": [
    "## Stratigraphic architecture of turbiditic depositional sequence\n",
    "<div align=\"center\">\n",
    "    <img width=800 src=\"http://www.sepmstrata.org/CMS_Images/FanSaltBasin.jpg\" title=\"submarine fans\"</img>\n",
    "    <small> [SEPM](http://www.sepmstrata.org/page.aspx?pageid=39)</small>\n",
    "</div>"
   ]
  },
  {
   "cell_type": "markdown",
   "metadata": {
    "slideshow": {
     "slide_type": "subslide"
    }
   },
   "source": [
    "## Stratigraphic architecture of turbiditic depositional sequence\n",
    "<div align=\"center\">\n",
    "    <img width=800 src=\"http://www.sepmstrata.org/CMS_Images/11-DeepwaterhierarchyOfChan.gif\" title=\"submarine fans\"</img>\n",
    "    <small> [SEPM](http://www.sepmstrata.org/page.aspx?pageid=39)</small>\n",
    "</div>"
   ]
  },
  {
   "cell_type": "markdown",
   "metadata": {
    "slideshow": {
     "slide_type": "subslide"
    }
   },
   "source": [
    "## Seismic & submarine channel-levee system \n",
    "<div align=\"center\">\n",
    "    <img width=900 src=\"http://aapgbull.geoscienceworld.org/content/94/7/1011/F8.large.jpg\" title=\"submarine channel response to slope\"</img>\n",
    "    <small> [AAPG](http://aapgbull.geoscienceworld.org/content/94/7/1011/F8.expansion.html)</small>\n",
    "</div>"
   ]
  },
  {
   "cell_type": "markdown",
   "metadata": {
    "slideshow": {
     "slide_type": "subslide"
    }
   },
   "source": [
    "## Submarine channel-levee system outcrop\n",
    "<br/>\n",
    "<div align=\"center\">\n",
    "    <img width=700 src=\"http://chileslopesystems.com/sites/default/files/styles/large/public/Mirador-appendix-fig.png?itok=EJ2XaWZ-\" title=\"Mirador channel complex\"</img>\n",
    "    <small> [source](http://chileslopesystems.com/project_appendix_2)</small>\n",
    "</div>\n",
    "\n",
    "Stratigraphic succession (Cerro Mirador, Chile): red box denoting the location of detailed photo shown in B, C, and D.(B) Un-interpreted photograph of the Cerro Mirador channel complex. (C) Photograph with preliminary characterization of bedding architecture. The red lines denote erosional surfaces interpreted as channel bases/margins; yellow lines denote intrachannel bedding surfaces. (D) Interpretation shown in C without photograph and showing an approximate scale."
   ]
  }
 ],
 "metadata": {
  "kernelspec": {
   "display_name": "Python 2",
   "language": "python",
   "name": "python2"
  },
  "language_info": {
   "codemirror_mode": {
    "name": "ipython",
    "version": 2
   },
   "file_extension": ".py",
   "mimetype": "text/x-python",
   "name": "python",
   "nbconvert_exporter": "python",
   "pygments_lexer": "ipython2",
   "version": "2.7.6"
  }
 },
 "nbformat": 4,
 "nbformat_minor": 0
}
