{
 "cells": [
  {
   "cell_type": "code",
   "execution_count": 34,
   "metadata": {
    "collapsed": true
   },
   "outputs": [],
   "source": [
    "import matplotlib\n",
    "import numpy as np\n",
    "import matplotlib.pyplot as plt\n",
    "%matplotlib inline "
   ]
  },
  {
   "cell_type": "markdown",
   "metadata": {},
   "source": [
    "# Decomposition function\n",
    "\n",
    "This function is used to decompact a fully compacted sedimentary package based on 2 iterations.\n",
    "\n",
    "### Input\n",
    "\n",
    "- `d1` : thickness of overlying (decompacted) sediment package starts at depth = 0\n",
    "- `d2` : observed thickness of the underlying sediment package\n",
    "- `por` : initial porosity of a particular lithology at the surface\n",
    "- `ro` : sediment grain density (without water, *ie* fully compacted)\n",
    "- `dm` : depth at which porosity goes to sero for given lithology\n",
    "- `rhow,rhom`: density of water and mantle respectively\n",
    "\n",
    "### Output\n",
    "- `td` : decompacted sediment thickness\n",
    "- `den` : decompacted sediment density\n",
    "- `zw` : tectonic subsidence in water due to replacement of decompacted sediment column with water and removal of the isostatic effect of sediments - this does not include global sealevel changes or water depth estimates\n",
    "\n"
   ]
  },
  {
   "cell_type": "code",
   "execution_count": 25,
   "metadata": {
    "collapsed": false
   },
   "outputs": [],
   "source": [
    "def decomp(d1,d2,por,ro,dm,rhow,rhom):\n",
    "\n",
    "    # Defining top (z1) and bottom (z2) depths of package\n",
    "    z2 = d1+d2\n",
    "    z1 = d1\n",
    "\n",
    "    # Defining the thickness of the slab\n",
    "    zs = np.sqrt(pow(z2-z1,2))\n",
    "\n",
    "    # Calculating the decompaction \n",
    "    for m in range(2):\n",
    "        # Variables for the first iteration\n",
    "        avp = por*(1.0-(z1+z2)/(2*dm))\n",
    "        dro = ro*(1.0-avp)+rhow*avp\n",
    "        v1 = zs*(1.0+(avp/(1.0-avp)))\n",
    "   \n",
    "        # Redefining z2 and por variables for the next iteration\n",
    "        z2 = v1+z1\n",
    "        por = avp\n",
    "   \n",
    "    # Replace the decompacted sediment column \n",
    "    # with water and isostatically compensate for the \n",
    "    # removal of the sediments\n",
    "    td = v1\n",
    "    rhos = dro\n",
    "    zw = td*(rhom-rhos)/(rhom-rhow)\n",
    "    \n",
    "    return td,rhos,zw"
   ]
  },
  {
   "cell_type": "markdown",
   "metadata": {},
   "source": [
    "# Backstripping function\n",
    "\n",
    "Now we will define the backstripping of a sedimentary column to determine decompacted thickness and tectonic subsidence. \n",
    "\n",
    "The backstripping depends on the previously defined function `decomp` which decompacts individual layers from a fully compacted state (zero porosity) to a given burial depth previous to reaching a fully compacted state.\n",
    "\n",
    "The function returns the total decompacted sediment thickness and the water released at each time."
   ]
  },
  {
   "cell_type": "code",
   "execution_count": 96,
   "metadata": {
    "collapsed": false
   },
   "outputs": [],
   "source": [
    "def backstrip(t,z,rhow,rhom):\n",
    "    \n",
    "    # Initalize the array of total water column at each time\n",
    "    # In this case, we only consider water in pore space\n",
    "    # This corresponds to tectonic subsidence in water\n",
    "    subs = np.zeros(5)\n",
    "    \n",
    "    zsed = np.zeros(5)\n",
    "    \n",
    "    # Starting time loop\n",
    "    # Total number of layers: 4\n",
    "    for i in range(4):\n",
    "        # Array for water realised\n",
    "        z3 = np.zeros(4)\n",
    "        # Thickness of decompacted sediment package\n",
    "        z2a = 0. # set at 0 at start\n",
    "        \n",
    "        # Starting section loop\n",
    "        # Number of layers at time t(i)\n",
    "        zsed1 = np.zeros(5)\n",
    "        for j in range(i+1):\n",
    "            \n",
    "            # assigning values to units depending on whether \n",
    "            # sedimentary unit index is odd or even (1-4). Odd \n",
    "            # corresponds to shale and even to sandstone. \n",
    "            # Here % sign is used to calculate the modulus \n",
    "            # (depending on whether unit number is odd or even)\n",
    "            if i-j%2==0:\n",
    "                por = 0.\n",
    "                dm = 6000\n",
    "                ro = 2.72\n",
    "            else:\n",
    "                por = 0.25\n",
    "                dm = 10000\n",
    "                ro = 2.65\n",
    "                            \n",
    "            # Setting up d1 and d2 for each loop\n",
    "            # d1 is the thickness of overlying (decompacted) sediment \n",
    "            # package (starts at depth = 0)\n",
    "            # d2 is the observed thickness of the underlying sediment \n",
    "            # package\n",
    "            d1 = z2a\n",
    "            d2 = z[i-j]\n",
    "\n",
    "            # Decompacting layer\n",
    "            # td = decompacted sediment thickness\n",
    "            # rhos = average decompacted sediment density of given unit\n",
    "            # zw = tectonic subsidence in water due to replacement of decompacted sediment column\n",
    "            #      with water and removal of the isostatic effect of sediments - this does not\n",
    "            #      include global sealevel changes or water depth estimates\n",
    "            td,rhos,zw = decomp(d1,d2,por,ro,dm,rhow,rhom)\n",
    "    \n",
    "            # Creating array of decompacted thicknesses\n",
    "            zsed1[j] = td\n",
    "    \n",
    "            # Creating an array for the water released\n",
    "            z3[j] = zw\n",
    "    \n",
    "            # Redefining z2a for next loop\n",
    "            # (thickness of the decompacted sediment package)\n",
    "            z2a = td+d1\n",
    "        \n",
    "        # Calculating total decompacted sediment thickness at each time\n",
    "        zsed[i] = sum(zsed1)\n",
    "\n",
    "        # Calculating the total amount of water released at each time\n",
    "        zt = sum(z3)\n",
    "\n",
    "        # Making an array of the water released at each time\n",
    "        subs[i] = zt\n",
    "\n",
    "    return subs,zsed"
   ]
  },
  {
   "cell_type": "code",
   "execution_count": 97,
   "metadata": {
    "collapsed": false
   },
   "outputs": [
    {
     "ename": "IndentationError",
     "evalue": "unexpected indent (<ipython-input-97-f3a769fe5bfc>, line 2)",
     "output_type": "error",
     "traceback": [
      "\u001b[1;36m  File \u001b[1;32m\"<ipython-input-97-f3a769fe5bfc>\"\u001b[1;36m, line \u001b[1;32m2\u001b[0m\n\u001b[1;33m    '''\u001b[0m\n\u001b[1;37m    ^\u001b[0m\n\u001b[1;31mIndentationError\u001b[0m\u001b[1;31m:\u001b[0m unexpected indent\n"
     ]
    }
   ],
   "source": [
    "\n",
    " '''\n",
    "            d2 = z[i+1-j]\n",
    "\n",
    "            # Decompacting layer\n",
    "            # td = decompacted sediment thickness\n",
    "            # rhos = average decompacted sediment density of given unit\n",
    "            # zw = tectonic subsidence in water due to replacement of decompacted sediment column\n",
    "            #      with water and removal of the isostatic effect of sediments - this does not\n",
    "            #      include global sealevel changes or water depth estimates\n",
    "            td,rhos,zw = decomp(d1,d2,por,ro,dm,rhow,rhom)\n",
    "    \n",
    "            # Creating array of decompacted thicknesses\n",
    "            zsed1[j] = td\n",
    "    \n",
    "            # Creating an array for the water released\n",
    "            z3[j] = zw\n",
    "    \n",
    "            # Redefining z2a for next loop\n",
    "            # (thickness of the decompacted sediment package)\n",
    "            z2a = td+d1\n",
    "        \n",
    "        # Calculating total decompacted sediment thickness at each time\n",
    "        zsed[i] = sum(zsed1)\n",
    "\n",
    "        # Calculating the total amount of water released at each time\n",
    "        zt = sum(z3)\n",
    "\n",
    "        # Making an array of the water released at each time\n",
    "        subs[i] = zt\n",
    " '''\n",
    " #   return subs,zsed"
   ]
  },
  {
   "cell_type": "markdown",
   "metadata": {},
   "source": [
    "# Compute the backstripping of the sedimentary pile"
   ]
  },
  {
   "cell_type": "code",
   "execution_count": 98,
   "metadata": {
    "collapsed": false
   },
   "outputs": [],
   "source": [
    "# Define ages array\n",
    "ages = np.array([142, 120, 100, 75])\n",
    "\n",
    "# Define layers thicknesses\n",
    "laythick = np.array([750, 600, 650, 500])\n",
    "\n",
    "# Densities of water (g.cm-3)\n",
    "rhow = 1.03\n",
    "\n",
    "# Densities of mantle (g.cm-3)\n",
    "rhom = 3.3\n",
    "\n",
    "# Perform backstripping \n",
    "# It will return:\n",
    "# - the total decompacted sediment thickness at each time (zsed)\n",
    "# - the the water released at each time (subs)\n",
    "subs,zsed = backstrip(ages,laythick,rhow,rhom)\n",
    "#backstrip(ages,laythick,rhow,rhom)\n",
    "\n",
    "# Create final time, subsidence and sediment thickness arrays\n",
    "tecsub = np.zeros(5)\n",
    "t1 = np.zeros(5)\n",
    "t1[0] = 150\n",
    "decompthick = np.zeros(5)\n",
    "decompthick[0] = 0\n",
    "sed_depth = np.zeros(5)\n",
    "\n",
    "for n in range(4):\n",
    "    tecsub[n+1] = subs[n]\n",
    "    decompthick[n+1] = zsed[n]\n",
    "    t1[n+1] = ages[n]\n",
    "    sed_depth[n+1] = sed_depth[n]+laythick[n]"
   ]
  },
  {
   "cell_type": "code",
   "execution_count": 99,
   "metadata": {
    "collapsed": false
   },
   "outputs": [
    {
     "name": "stdout",
     "output_type": "stream",
     "text": [
      "[    0.   750.  1350.  2000.  2500.] [ 150.  142.  120.  100.   75.]\n"
     ]
    }
   ],
   "source": [
    "print sed_depth,t1"
   ]
  },
  {
   "cell_type": "markdown",
   "metadata": {},
   "source": [
    "# Plotting the results"
   ]
  },
  {
   "cell_type": "code",
   "execution_count": 100,
   "metadata": {
    "collapsed": false
   },
   "outputs": [
    {
     "data": {
      "text/plain": [
       "<matplotlib.text.Text at 0x7f7b1ffd53d0>"
      ]
     },
     "execution_count": 100,
     "metadata": {},
     "output_type": "execute_result"
    },
    {
     "data": {
      "image/png": "[encoded data removed]",
      "text/plain": [
       "<matplotlib.figure.Figure at 0x7f7b1fe0e3d0>"
      ]
     },
     "metadata": {},
     "output_type": "display_data"
    }
   ],
   "source": [
    "fig = plt.figure(figsize = (10,7))\n",
    "plt.rc(\"font\", size=9)\n",
    "ax = fig.add_subplot(1, 1, 1)\n",
    "ax.set_title('Sediment Thicknesses and Tectonic Subsidence vs. Time', fontsize=12)\n",
    "\n",
    "plt.plot(t1,decompthick,'-',color='#6666FF',linewidth=2,label='Decompacted Thickness')\n",
    "plt.plot(t1,sed_depth,'--',color='#66CC00',linewidth=2,label='Observed Sediment Thickness')\n",
    "plt.plot(t1,tecsub,':',color='#FF3399',linewidth=2,label='Tectonic Subsidence')\n",
    "\n",
    "axes = plt.gca().invert_xaxis()\n",
    "axes = plt.gca().invert_yaxis()\n",
    "\n",
    "axes = plt.gca()\n",
    "plt.legend(loc=1, fontsize=10)\n",
    "plt.grid(True)\n",
    "plt.xlabel('Time (million years ago)',fontsize=10)\n",
    "plt.ylabel('Depth (m)',fontsize=10)"
   ]
  },
  {
   "cell_type": "code",
   "execution_count": null,
   "metadata": {
    "collapsed": true
   },
   "outputs": [],
   "source": []
  }
 ],
 "metadata": {
  "kernelspec": {
   "display_name": "Python 2",
   "language": "python",
   "name": "python2"
  },
  "language_info": {
   "codemirror_mode": {
    "name": "ipython",
    "version": 2
   },
   "file_extension": ".py",
   "mimetype": "text/x-python",
   "name": "python",
   "nbconvert_exporter": "python",
   "pygments_lexer": "ipython2",
   "version": "2.7.6"
  }
 },
 "nbformat": 4,
 "nbformat_minor": 0
}
